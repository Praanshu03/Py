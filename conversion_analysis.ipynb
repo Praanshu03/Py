{
 "cells": [
  {
   "attachments": {},
   "cell_type": "markdown",
   "metadata": {},
   "source": [
    "#### Optimizing conversion rate is likely the most common work of a data scientist, and rightfully so. \n",
    "\n",
    "#### The data revolution has a lot to do with the fact that now we are able to collect all sorts of data about people who buy something on our site as well as people who don't. This gives us a tremendous opportunity to understand what's working well (and potentially scale it even further) and what's not working well (and fix it).\n",
    "#### The goal of this challenge is to build a model that predicts conversion rate and, based on the model, come up with ideas to improve revenue.\n"
   ]
  },
  {
   "cell_type": "code",
   "execution_count": 116,
   "metadata": {},
   "outputs": [],
   "source": [
    "import pandas as pd\n",
    "import numpy as np\n",
    "import matplotlib.pyplot as plt\n",
    "%matplotlib inline\n",
    "from sklearn import linear_model\n",
    "from sklearn.linear_model import LinearRegression\n",
    "import random\n",
    "from sklearn import feature_selection\n",
    "import statsmodels.formula.api as smf\n",
    "from sklearn import metrics\n",
    "from sklearn.model_selection import cross_val_score\n",
    "from sklearn.model_selection import train_test_split\n",
    "from sklearn import preprocessing\n",
    "from sklearn.linear_model import LogisticRegression\n",
    "from sklearn.model_selection import cross_val_score\n",
    "from sklearn.metrics import confusion_matrix\n",
    "import seaborn as sns\n",
    "from sklearn.ensemble import GradientBoostingClassifier\n",
    "from sklearn.metrics import classification_report\n",
    "from sklearn.model_selection import GridSearchCV\n",
    "\n",
    "from sklearn.metrics import roc_curve, auc,roc_auc_score\n",
    "from sklearn.metrics import (confusion_matrix,  \n",
    "                           accuracy_score)"
   ]
  },
  {
   "cell_type": "code",
   "execution_count": 2,
   "metadata": {},
   "outputs": [
    {
     "data": {
      "text/html": [
       "<div>\n",
       "<style scoped>\n",
       "    .dataframe tbody tr th:only-of-type {\n",
       "        vertical-align: middle;\n",
       "    }\n",
       "\n",
       "    .dataframe tbody tr th {\n",
       "        vertical-align: top;\n",
       "    }\n",
       "\n",
       "    .dataframe thead th {\n",
       "        text-align: right;\n",
       "    }\n",
       "</style>\n",
       "<table border=\"1\" class=\"dataframe\">\n",
       "  <thead>\n",
       "    <tr style=\"text-align: right;\">\n",
       "      <th></th>\n",
       "      <th>country</th>\n",
       "      <th>age</th>\n",
       "      <th>new_user</th>\n",
       "      <th>source</th>\n",
       "      <th>total_pages_visited</th>\n",
       "      <th>converted</th>\n",
       "    </tr>\n",
       "  </thead>\n",
       "  <tbody>\n",
       "    <tr>\n",
       "      <th>0</th>\n",
       "      <td>UK</td>\n",
       "      <td>25</td>\n",
       "      <td>1</td>\n",
       "      <td>Ads</td>\n",
       "      <td>1</td>\n",
       "      <td>0</td>\n",
       "    </tr>\n",
       "    <tr>\n",
       "      <th>1</th>\n",
       "      <td>US</td>\n",
       "      <td>23</td>\n",
       "      <td>1</td>\n",
       "      <td>Seo</td>\n",
       "      <td>5</td>\n",
       "      <td>0</td>\n",
       "    </tr>\n",
       "    <tr>\n",
       "      <th>2</th>\n",
       "      <td>US</td>\n",
       "      <td>28</td>\n",
       "      <td>1</td>\n",
       "      <td>Seo</td>\n",
       "      <td>4</td>\n",
       "      <td>0</td>\n",
       "    </tr>\n",
       "    <tr>\n",
       "      <th>3</th>\n",
       "      <td>China</td>\n",
       "      <td>39</td>\n",
       "      <td>1</td>\n",
       "      <td>Seo</td>\n",
       "      <td>5</td>\n",
       "      <td>0</td>\n",
       "    </tr>\n",
       "    <tr>\n",
       "      <th>4</th>\n",
       "      <td>US</td>\n",
       "      <td>30</td>\n",
       "      <td>1</td>\n",
       "      <td>Seo</td>\n",
       "      <td>6</td>\n",
       "      <td>0</td>\n",
       "    </tr>\n",
       "  </tbody>\n",
       "</table>\n",
       "</div>"
      ],
      "text/plain": [
       "  country  age  new_user source  total_pages_visited  converted\n",
       "0      UK   25         1    Ads                    1          0\n",
       "1      US   23         1    Seo                    5          0\n",
       "2      US   28         1    Seo                    4          0\n",
       "3   China   39         1    Seo                    5          0\n",
       "4      US   30         1    Seo                    6          0"
      ]
     },
     "execution_count": 2,
     "metadata": {},
     "output_type": "execute_result"
    }
   ],
   "source": [
    "conversion_data = pd.read_csv(\"/Users/praanshu/Desktop/SFSU/Data Mining/PPTs,data/conversion_data.csv\")\n",
    "conversion_data.head()"
   ]
  },
  {
   "cell_type": "code",
   "execution_count": 3,
   "metadata": {},
   "outputs": [
    {
     "name": "stdout",
     "output_type": "stream",
     "text": [
      "0\n"
     ]
    },
    {
     "data": {
      "text/plain": [
       "array([ 1,  2,  3,  4,  5,  6,  7,  8,  9, 10, 11, 12, 13, 14, 15, 16, 17,\n",
       "       18, 19, 20, 21, 22, 23, 24, 25, 26, 27, 28, 29])"
      ]
     },
     "execution_count": 3,
     "metadata": {},
     "output_type": "execute_result"
    }
   ],
   "source": [
    "print(np.count_nonzero(conversion_data.isnull()))     #checking to see if there are any null values in the dataset.\n",
    "np.unique(conversion_data['total_pages_visited'])"
   ]
  },
  {
   "cell_type": "code",
   "execution_count": 4,
   "metadata": {},
   "outputs": [],
   "source": [
    "# Using the cut function to divide total_pages_visited into different bins: \n",
    "# The cuts were found using qcut function to ensure fairly uniform quartiles\n",
    "# 0-2, 3-4, 5-7, 8 and above \n",
    "\n",
    "conversion_data['total_pages_visited_bin'] = pd.cut(x=conversion_data['total_pages_visited'], bins=[0,2,4,7,29])\n",
    "\n",
    "# Dividing age into different bins: 17-24, 25-30, 31-36, 37 and above.\n",
    "\n",
    "conversion_data['age_bin'] = pd.cut(x=conversion_data['age'], bins=[16,24,30,36,123] )\n"
   ]
  },
  {
   "cell_type": "markdown",
   "metadata": {},
   "source": [
    "#### Since output exists in our dataset and is dichotomous and categorical, we will now perform some exploratory analysis to make sense of the features"
   ]
  },
  {
   "cell_type": "code",
   "execution_count": 5,
   "metadata": {
    "scrolled": true
   },
   "outputs": [
    {
     "data": {
      "image/png": "[encoded data removed]",
      "text/plain": [
       "<Figure size 403.2x288 with 2 Axes>"
      ]
     },
     "metadata": {
      "needs_background": "light"
     },
     "output_type": "display_data"
    }
   ],
   "source": [
    "g = sns.catplot(x=\"total_pages_visited_bin\", col=\"converted\",\n",
    "                data=conversion_data, kind=\"count\",\n",
    "                height=4, aspect=.7);\n"
   ]
  },
  {
   "cell_type": "markdown",
   "metadata": {},
   "source": [
    "#### The plot above shows that people who visted the pages more than 7 times are among the majority converted, followed closely by people who visited pages 4-7 times. This could be either because certain users are more engaged and hence more likely to view more pages before converting. Or this could be due to the fact that checking out inolves landing on more pages."
   ]
  },
  {
   "cell_type": "code",
   "execution_count": 6,
   "metadata": {},
   "outputs": [
    {
     "data": {
      "image/png": "[encoded data removed]",
      "text/plain": [
       "<Figure size 458.7x288 with 2 Axes>"
      ]
     },
     "metadata": {
      "needs_background": "light"
     },
     "output_type": "display_data"
    }
   ],
   "source": [
    "g = sns.catplot(x=\"total_pages_visited_bin\",hue= \"new_user\",col=\"converted\",\n",
    "                data=conversion_data, kind=\"count\",\n",
    "                height=4, aspect=.7);\n",
    "\n"
   ]
  },
  {
   "cell_type": "markdown",
   "metadata": {},
   "source": [
    "#### Here we analyze the split of new users vs old with respect to the number of pages visited. We see that of the people converted,  in the total pages visited bin of 7+ , there were more old users than new ones."
   ]
  },
  {
   "cell_type": "code",
   "execution_count": 7,
   "metadata": {},
   "outputs": [
    {
     "data": {
      "text/html": [
       "<div>\n",
       "<style scoped>\n",
       "    .dataframe tbody tr th:only-of-type {\n",
       "        vertical-align: middle;\n",
       "    }\n",
       "\n",
       "    .dataframe tbody tr th {\n",
       "        vertical-align: top;\n",
       "    }\n",
       "\n",
       "    .dataframe thead th {\n",
       "        text-align: right;\n",
       "    }\n",
       "</style>\n",
       "<table border=\"1\" class=\"dataframe\">\n",
       "  <thead>\n",
       "    <tr style=\"text-align: right;\">\n",
       "      <th></th>\n",
       "      <th>country</th>\n",
       "      <th>not_converted</th>\n",
       "      <th>converted</th>\n",
       "      <th>percentage_conversion</th>\n",
       "    </tr>\n",
       "  </thead>\n",
       "  <tbody>\n",
       "    <tr>\n",
       "      <th>0</th>\n",
       "      <td>China</td>\n",
       "      <td>76500</td>\n",
       "      <td>102</td>\n",
       "      <td>0.13</td>\n",
       "    </tr>\n",
       "    <tr>\n",
       "      <th>3</th>\n",
       "      <td>US</td>\n",
       "      <td>171360</td>\n",
       "      <td>6732</td>\n",
       "      <td>3.78</td>\n",
       "    </tr>\n",
       "    <tr>\n",
       "      <th>2</th>\n",
       "      <td>UK</td>\n",
       "      <td>45900</td>\n",
       "      <td>2550</td>\n",
       "      <td>5.26</td>\n",
       "    </tr>\n",
       "    <tr>\n",
       "      <th>1</th>\n",
       "      <td>Germany</td>\n",
       "      <td>12240</td>\n",
       "      <td>816</td>\n",
       "      <td>6.25</td>\n",
       "    </tr>\n",
       "  </tbody>\n",
       "</table>\n",
       "</div>"
      ],
      "text/plain": [
       "   country  not_converted  converted  percentage_conversion\n",
       "0    China          76500        102                   0.13\n",
       "3       US         171360       6732                   3.78\n",
       "2       UK          45900       2550                   5.26\n",
       "1  Germany          12240        816                   6.25"
      ]
     },
     "execution_count": 7,
     "metadata": {},
     "output_type": "execute_result"
    }
   ],
   "source": [
    "\n",
    "conversion_by_country = conversion_data \\\n",
    "    .groupby(['country', 'converted']) \\\n",
    "    .agg({'new_user': 'count'}) \\\n",
    "    .reset_index() \\\n",
    "    .rename({'new_user':'counts'}, axis=1)\n",
    "\n",
    "df = conversion_by_country \\\n",
    "    .pivot(index='country', columns='converted', values='counts') \\\n",
    "    .reset_index() \\\n",
    "    .rename({0:'not_converted', 1:'converted'}, axis=1)\n",
    "\n",
    "df.columns.name = None\n",
    "df['percentage_conversion']= round((df['converted']/(df['converted'] + df['not_converted']))*100,2)\n",
    "df.sort_values(by='percentage_conversion',inplace= True)\n",
    "df\n"
   ]
  },
  {
   "cell_type": "code",
   "execution_count": 8,
   "metadata": {
    "scrolled": false
   },
   "outputs": [
    {
     "data": {
      "image/png": "[encoded data removed]",
      "text/plain": [
       "<Figure size 432x288 with 1 Axes>"
      ]
     },
     "metadata": {
      "needs_background": "light"
     },
     "output_type": "display_data"
    }
   ],
   "source": [
    "\n",
    "bars= plt.bar(x ='country',height ='percentage_conversion', data=df, color = ['red','cyan','green','blue'])\n",
    "\n",
    "for bar in bars:\n",
    "    yval = bar.get_height()\n",
    "    plt.text(bar.get_x()+ 0.25, yval + .06, yval)\n",
    "\n",
    "plt.ylabel(\"Percentage_conversion\")\n",
    "plt.xlabel(\"Country\")\n",
    "plt.title(\"Percenatge conversion by country\")\n",
    "plt.show()"
   ]
  },
  {
   "cell_type": "markdown",
   "metadata": {},
   "source": [
    "#### The above analysis depicts the conversion rate per country. We see that while US has the most absolute number of cases converted, the percentage conversion is highest in Germany and least in China"
   ]
  },
  {
   "cell_type": "code",
   "execution_count": 9,
   "metadata": {},
   "outputs": [
    {
     "data": {
      "text/html": [
       "<div>\n",
       "<style scoped>\n",
       "    .dataframe tbody tr th:only-of-type {\n",
       "        vertical-align: middle;\n",
       "    }\n",
       "\n",
       "    .dataframe tbody tr th {\n",
       "        vertical-align: top;\n",
       "    }\n",
       "\n",
       "    .dataframe thead th {\n",
       "        text-align: right;\n",
       "    }\n",
       "</style>\n",
       "<table border=\"1\" class=\"dataframe\">\n",
       "  <thead>\n",
       "    <tr style=\"text-align: right;\">\n",
       "      <th></th>\n",
       "      <th>source</th>\n",
       "      <th>not_converted</th>\n",
       "      <th>converted</th>\n",
       "      <th>percentage_conversion</th>\n",
       "    </tr>\n",
       "  </thead>\n",
       "  <tbody>\n",
       "    <tr>\n",
       "      <th>1</th>\n",
       "      <td>Direct</td>\n",
       "      <td>70380</td>\n",
       "      <td>2040</td>\n",
       "      <td>2.82</td>\n",
       "    </tr>\n",
       "    <tr>\n",
       "      <th>2</th>\n",
       "      <td>Seo</td>\n",
       "      <td>149940</td>\n",
       "      <td>5100</td>\n",
       "      <td>3.29</td>\n",
       "    </tr>\n",
       "    <tr>\n",
       "      <th>0</th>\n",
       "      <td>Ads</td>\n",
       "      <td>85680</td>\n",
       "      <td>3060</td>\n",
       "      <td>3.45</td>\n",
       "    </tr>\n",
       "  </tbody>\n",
       "</table>\n",
       "</div>"
      ],
      "text/plain": [
       "   source  not_converted  converted  percentage_conversion\n",
       "1  Direct          70380       2040                   2.82\n",
       "2     Seo         149940       5100                   3.29\n",
       "0     Ads          85680       3060                   3.45"
      ]
     },
     "execution_count": 9,
     "metadata": {},
     "output_type": "execute_result"
    }
   ],
   "source": [
    "conversion_by_source = conversion_data \\\n",
    "    .groupby(['source', 'converted']) \\\n",
    "    .agg({'new_user': 'count'}) \\\n",
    "    .reset_index() \\\n",
    "    .rename({'new_user':'counts'}, axis=1)\n",
    "\n",
    "df_source = conversion_by_source \\\n",
    "    .pivot(index='source', columns='converted', values='counts') \\\n",
    "    .reset_index() \\\n",
    "    .rename({0:'not_converted', 1:'converted'}, axis=1)\n",
    "\n",
    "df_source.columns.name = None\n",
    "df_source['percentage_conversion']= round((df_source['converted']/(df_source['converted'] + \n",
    "                                                                   df_source['not_converted']))*100,2)\n",
    "df_source.sort_values(by='percentage_conversion',inplace= True)\n",
    "df_source"
   ]
  },
  {
   "cell_type": "code",
   "execution_count": 10,
   "metadata": {
    "scrolled": false
   },
   "outputs": [
    {
     "data": {
      "image/png": "[encoded data removed]",
      "text/plain": [
       "<Figure size 432x288 with 1 Axes>"
      ]
     },
     "metadata": {
      "needs_background": "light"
     },
     "output_type": "display_data"
    }
   ],
   "source": [
    "bars= plt.bar(x ='source',height ='percentage_conversion', data=df_source, color = ['red','cyan','blue'])\n",
    "\n",
    "for bar in bars:\n",
    "    yval = bar.get_height()\n",
    "    plt.text(bar.get_x()+ 0.25, yval+0.03 , yval)\n",
    "\n",
    "plt.ylabel(\"Percentage_conversion\")\n",
    "plt.xlabel(\"Source\")\n",
    "plt.title(\"Percenatge conversion by source\")\n",
    "plt.show()"
   ]
  },
  {
   "cell_type": "markdown",
   "metadata": {},
   "source": [
    "#### The above analysis depicts the conversion rate by source. We see that while Seo has most number of absolute conversions, the percentage conversion is highest for Ads, suggesting that Ads is a successful mode of targeting customers"
   ]
  },
  {
   "cell_type": "code",
   "execution_count": 189,
   "metadata": {},
   "outputs": [
    {
     "name": "stdout",
     "output_type": "stream",
     "text": [
      "Overall Conversion rate: 3.23 %\n"
     ]
    }
   ],
   "source": [
    "No_of_sessions = len(conversion_data['converted'])\n",
    "Converted= sum(conversion_data['converted'])\n",
    "Conversion_rate_actual = Converted/No_of_sessions\n",
    "print('Overall Conversion rate:', round((Conversion_rate_actual*100),2), '%')"
   ]
  },
  {
   "cell_type": "markdown",
   "metadata": {},
   "source": [
    "#### The overall conversion rate for this dataset is 3.23%"
   ]
  },
  {
   "cell_type": "markdown",
   "metadata": {},
   "source": [
    "#### We will now conduct statistical analyses on the data set to find the best model for predicting conversion rate"
   ]
  },
  {
   "cell_type": "code",
   "execution_count": 11,
   "metadata": {},
   "outputs": [
    {
     "data": {
      "text/html": [
       "<div>\n",
       "<style scoped>\n",
       "    .dataframe tbody tr th:only-of-type {\n",
       "        vertical-align: middle;\n",
       "    }\n",
       "\n",
       "    .dataframe tbody tr th {\n",
       "        vertical-align: top;\n",
       "    }\n",
       "\n",
       "    .dataframe thead th {\n",
       "        text-align: right;\n",
       "    }\n",
       "</style>\n",
       "<table border=\"1\" class=\"dataframe\">\n",
       "  <thead>\n",
       "    <tr style=\"text-align: right;\">\n",
       "      <th></th>\n",
       "      <th>country</th>\n",
       "      <th>age</th>\n",
       "      <th>new_user</th>\n",
       "      <th>source</th>\n",
       "      <th>total_pages_visited</th>\n",
       "      <th>converted</th>\n",
       "      <th>total_pages_visited_bin</th>\n",
       "      <th>age_bin</th>\n",
       "      <th>country_Germany</th>\n",
       "      <th>country_UK</th>\n",
       "      <th>country_US</th>\n",
       "      <th>source_Direct</th>\n",
       "      <th>source_Seo</th>\n",
       "      <th>age_(24, 30]</th>\n",
       "      <th>age_(30, 36]</th>\n",
       "      <th>age_(36, 123]</th>\n",
       "      <th>total_page_visited_(2, 4]</th>\n",
       "      <th>total_page_visited_(4, 7]</th>\n",
       "      <th>total_page_visited_(7, 29]</th>\n",
       "    </tr>\n",
       "  </thead>\n",
       "  <tbody>\n",
       "    <tr>\n",
       "      <th>0</th>\n",
       "      <td>UK</td>\n",
       "      <td>25</td>\n",
       "      <td>1</td>\n",
       "      <td>Ads</td>\n",
       "      <td>1</td>\n",
       "      <td>0</td>\n",
       "      <td>(0, 2]</td>\n",
       "      <td>(24, 30]</td>\n",
       "      <td>0</td>\n",
       "      <td>1</td>\n",
       "      <td>0</td>\n",
       "      <td>0</td>\n",
       "      <td>0</td>\n",
       "      <td>1</td>\n",
       "      <td>0</td>\n",
       "      <td>0</td>\n",
       "      <td>0</td>\n",
       "      <td>0</td>\n",
       "      <td>0</td>\n",
       "    </tr>\n",
       "    <tr>\n",
       "      <th>1</th>\n",
       "      <td>US</td>\n",
       "      <td>23</td>\n",
       "      <td>1</td>\n",
       "      <td>Seo</td>\n",
       "      <td>5</td>\n",
       "      <td>0</td>\n",
       "      <td>(4, 7]</td>\n",
       "      <td>(16, 24]</td>\n",
       "      <td>0</td>\n",
       "      <td>0</td>\n",
       "      <td>1</td>\n",
       "      <td>0</td>\n",
       "      <td>1</td>\n",
       "      <td>0</td>\n",
       "      <td>0</td>\n",
       "      <td>0</td>\n",
       "      <td>0</td>\n",
       "      <td>1</td>\n",
       "      <td>0</td>\n",
       "    </tr>\n",
       "    <tr>\n",
       "      <th>2</th>\n",
       "      <td>US</td>\n",
       "      <td>28</td>\n",
       "      <td>1</td>\n",
       "      <td>Seo</td>\n",
       "      <td>4</td>\n",
       "      <td>0</td>\n",
       "      <td>(2, 4]</td>\n",
       "      <td>(24, 30]</td>\n",
       "      <td>0</td>\n",
       "      <td>0</td>\n",
       "      <td>1</td>\n",
       "      <td>0</td>\n",
       "      <td>1</td>\n",
       "      <td>1</td>\n",
       "      <td>0</td>\n",
       "      <td>0</td>\n",
       "      <td>1</td>\n",
       "      <td>0</td>\n",
       "      <td>0</td>\n",
       "    </tr>\n",
       "    <tr>\n",
       "      <th>3</th>\n",
       "      <td>China</td>\n",
       "      <td>39</td>\n",
       "      <td>1</td>\n",
       "      <td>Seo</td>\n",
       "      <td>5</td>\n",
       "      <td>0</td>\n",
       "      <td>(4, 7]</td>\n",
       "      <td>(36, 123]</td>\n",
       "      <td>0</td>\n",
       "      <td>0</td>\n",
       "      <td>0</td>\n",
       "      <td>0</td>\n",
       "      <td>1</td>\n",
       "      <td>0</td>\n",
       "      <td>0</td>\n",
       "      <td>1</td>\n",
       "      <td>0</td>\n",
       "      <td>1</td>\n",
       "      <td>0</td>\n",
       "    </tr>\n",
       "    <tr>\n",
       "      <th>4</th>\n",
       "      <td>US</td>\n",
       "      <td>30</td>\n",
       "      <td>1</td>\n",
       "      <td>Seo</td>\n",
       "      <td>6</td>\n",
       "      <td>0</td>\n",
       "      <td>(4, 7]</td>\n",
       "      <td>(24, 30]</td>\n",
       "      <td>0</td>\n",
       "      <td>0</td>\n",
       "      <td>1</td>\n",
       "      <td>0</td>\n",
       "      <td>1</td>\n",
       "      <td>1</td>\n",
       "      <td>0</td>\n",
       "      <td>0</td>\n",
       "      <td>0</td>\n",
       "      <td>1</td>\n",
       "      <td>0</td>\n",
       "    </tr>\n",
       "  </tbody>\n",
       "</table>\n",
       "</div>"
      ],
      "text/plain": [
       "  country  age  new_user source  total_pages_visited  converted  \\\n",
       "0      UK   25         1    Ads                    1          0   \n",
       "1      US   23         1    Seo                    5          0   \n",
       "2      US   28         1    Seo                    4          0   \n",
       "3   China   39         1    Seo                    5          0   \n",
       "4      US   30         1    Seo                    6          0   \n",
       "\n",
       "  total_pages_visited_bin    age_bin  country_Germany  country_UK  country_US  \\\n",
       "0                  (0, 2]   (24, 30]                0           1           0   \n",
       "1                  (4, 7]   (16, 24]                0           0           1   \n",
       "2                  (2, 4]   (24, 30]                0           0           1   \n",
       "3                  (4, 7]  (36, 123]                0           0           0   \n",
       "4                  (4, 7]   (24, 30]                0           0           1   \n",
       "\n",
       "   source_Direct  source_Seo  age_(24, 30]  age_(30, 36]  age_(36, 123]  \\\n",
       "0              0           0             1             0              0   \n",
       "1              0           1             0             0              0   \n",
       "2              0           1             1             0              0   \n",
       "3              0           1             0             0              1   \n",
       "4              0           1             1             0              0   \n",
       "\n",
       "   total_page_visited_(2, 4]  total_page_visited_(4, 7]  \\\n",
       "0                          0                          0   \n",
       "1                          0                          1   \n",
       "2                          1                          0   \n",
       "3                          0                          1   \n",
       "4                          0                          1   \n",
       "\n",
       "   total_page_visited_(7, 29]  \n",
       "0                           0  \n",
       "1                           0  \n",
       "2                           0  \n",
       "3                           0  \n",
       "4                           0  "
      ]
     },
     "execution_count": 11,
     "metadata": {},
     "output_type": "execute_result"
    }
   ],
   "source": [
    "# creating dummy variables\n",
    "\n",
    "country_dummy = pd.get_dummies(data = conversion_data.country, prefix = 'country', drop_first = True)\n",
    "source_dummy = pd.get_dummies(data= conversion_data.source, prefix ='source', drop_first= True)\n",
    "\n",
    "#Since we grouped ages and total pages visited in brackets for better interpretation, we will now\n",
    "#convert them to dummies\n",
    "\n",
    "age_dummy = pd.get_dummies(data =conversion_data.age_bin, prefix ='age', drop_first = True)\n",
    "total_pages_visited_dummy = pd.get_dummies(data =conversion_data.total_pages_visited_bin,\\\n",
    "                                           prefix ='total_page_visited', drop_first = True)\n",
    "\n",
    "conversion_data = pd.concat([conversion_data, country_dummy, \\\n",
    "                             source_dummy, age_dummy, total_pages_visited_dummy], axis=1)\n",
    "conversion_data.head()"
   ]
  },
  {
   "cell_type": "code",
   "execution_count": 12,
   "metadata": {},
   "outputs": [],
   "source": [
    "conversion_data['Intercept'] = 1\n",
    "X = conversion_data[['Intercept','country_Germany','country_UK','country_US','source_Direct',\n",
    "                    'source_Seo','age_(24, 30]','age_(30, 36]','age_(36, 123]',\n",
    "                    'total_page_visited_(2, 4]','total_page_visited_(4, 7]','total_page_visited_(7, 29]',\n",
    "                    'new_user']]\n",
    "y = conversion_data['converted']\n"
   ]
  },
  {
   "cell_type": "markdown",
   "metadata": {},
   "source": [
    "### Logistic regression using statsmodels.api"
   ]
  },
  {
   "cell_type": "code",
   "execution_count": 13,
   "metadata": {},
   "outputs": [
    {
     "name": "stdout",
     "output_type": "stream",
     "text": [
      "Optimization terminated successfully.\n",
      "         Current function value: 0.071967\n",
      "         Iterations 13\n"
     ]
    },
    {
     "data": {
      "text/html": [
       "<table class=\"simpletable\">\n",
       "<caption>Logit Regression Results</caption>\n",
       "<tr>\n",
       "  <th>Dep. Variable:</th>     <td>converted</td>    <th>  No. Observations:  </th>  <td>316200</td> \n",
       "</tr>\n",
       "<tr>\n",
       "  <th>Model:</th>               <td>Logit</td>      <th>  Df Residuals:      </th>  <td>316187</td> \n",
       "</tr>\n",
       "<tr>\n",
       "  <th>Method:</th>               <td>MLE</td>       <th>  Df Model:          </th>  <td>    12</td> \n",
       "</tr>\n",
       "<tr>\n",
       "  <th>Date:</th>          <td>Sun, 13 Dec 2020</td> <th>  Pseudo R-squ.:     </th>  <td>0.4950</td> \n",
       "</tr>\n",
       "<tr>\n",
       "  <th>Time:</th>              <td>20:20:10</td>     <th>  Log-Likelihood:    </th> <td> -22756.</td>\n",
       "</tr>\n",
       "<tr>\n",
       "  <th>converged:</th>           <td>True</td>       <th>  LL-Null:           </th> <td> -45060.</td>\n",
       "</tr>\n",
       "<tr>\n",
       "  <th> </th>                      <td> </td>        <th>  LLR p-value:       </th>  <td> 0.000</td> \n",
       "</tr>\n",
       "</table>\n",
       "<table class=\"simpletable\">\n",
       "<tr>\n",
       "               <td></td>                 <th>coef</th>     <th>std err</th>      <th>z</th>      <th>P>|z|</th>  <th>[0.025</th>    <th>0.975]</th>  \n",
       "</tr>\n",
       "<tr>\n",
       "  <th>Intercept</th>                  <td>  -10.7473</td> <td>    0.332</td> <td>  -32.333</td> <td> 0.000</td> <td>  -11.399</td> <td>  -10.096</td>\n",
       "</tr>\n",
       "<tr>\n",
       "  <th>country_Germany</th>            <td>    3.9183</td> <td>    0.110</td> <td>   35.654</td> <td> 0.000</td> <td>    3.703</td> <td>    4.134</td>\n",
       "</tr>\n",
       "<tr>\n",
       "  <th>country_UK</th>                 <td>    3.7239</td> <td>    0.103</td> <td>   36.139</td> <td> 0.000</td> <td>    3.522</td> <td>    3.926</td>\n",
       "</tr>\n",
       "<tr>\n",
       "  <th>country_US</th>                 <td>    3.3616</td> <td>    0.101</td> <td>   33.283</td> <td> 0.000</td> <td>    3.164</td> <td>    3.560</td>\n",
       "</tr>\n",
       "<tr>\n",
       "  <th>source_Direct</th>              <td>   -0.1975</td> <td>    0.035</td> <td>   -5.703</td> <td> 0.000</td> <td>   -0.265</td> <td>   -0.130</td>\n",
       "</tr>\n",
       "<tr>\n",
       "  <th>source_Seo</th>                 <td>   -0.0494</td> <td>    0.028</td> <td>   -1.759</td> <td> 0.079</td> <td>   -0.105</td> <td>    0.006</td>\n",
       "</tr>\n",
       "<tr>\n",
       "  <th>age_(24, 30]</th>               <td>   -0.5137</td> <td>    0.029</td> <td>  -17.436</td> <td> 0.000</td> <td>   -0.571</td> <td>   -0.456</td>\n",
       "</tr>\n",
       "<tr>\n",
       "  <th>age_(30, 36]</th>               <td>   -0.9550</td> <td>    0.034</td> <td>  -28.270</td> <td> 0.000</td> <td>   -1.021</td> <td>   -0.889</td>\n",
       "</tr>\n",
       "<tr>\n",
       "  <th>age_(36, 123]</th>              <td>   -1.5094</td> <td>    0.040</td> <td>  -37.867</td> <td> 0.000</td> <td>   -1.587</td> <td>   -1.431</td>\n",
       "</tr>\n",
       "<tr>\n",
       "  <th>total_page_visited_(2, 4]</th>  <td>    1.4463</td> <td>    0.351</td> <td>    4.118</td> <td> 0.000</td> <td>    0.758</td> <td>    2.135</td>\n",
       "</tr>\n",
       "<tr>\n",
       "  <th>total_page_visited_(4, 7]</th>  <td>    3.3916</td> <td>    0.321</td> <td>   10.558</td> <td> 0.000</td> <td>    2.762</td> <td>    4.021</td>\n",
       "</tr>\n",
       "<tr>\n",
       "  <th>total_page_visited_(7, 29]</th> <td>    7.4737</td> <td>    0.317</td> <td>   23.610</td> <td> 0.000</td> <td>    6.853</td> <td>    8.094</td>\n",
       "</tr>\n",
       "<tr>\n",
       "  <th>new_user</th>                   <td>   -1.6954</td> <td>    0.025</td> <td>  -68.084</td> <td> 0.000</td> <td>   -1.744</td> <td>   -1.647</td>\n",
       "</tr>\n",
       "</table><br/><br/>Possibly complete quasi-separation: A fraction 0.29 of observations can be<br/>perfectly predicted. This might indicate that there is complete<br/>quasi-separation. In this case some parameters will not be identified."
      ],
      "text/plain": [
       "<class 'statsmodels.iolib.summary.Summary'>\n",
       "\"\"\"\n",
       "                           Logit Regression Results                           \n",
       "==============================================================================\n",
       "Dep. Variable:              converted   No. Observations:               316200\n",
       "Model:                          Logit   Df Residuals:                   316187\n",
       "Method:                           MLE   Df Model:                           12\n",
       "Date:                Sun, 13 Dec 2020   Pseudo R-squ.:                  0.4950\n",
       "Time:                        20:20:10   Log-Likelihood:                -22756.\n",
       "converged:                       True   LL-Null:                       -45060.\n",
       "                                        LLR p-value:                     0.000\n",
       "==============================================================================================\n",
       "                                 coef    std err          z      P>|z|      [0.025      0.975]\n",
       "----------------------------------------------------------------------------------------------\n",
       "Intercept                    -10.7473      0.332    -32.333      0.000     -11.399     -10.096\n",
       "country_Germany                3.9183      0.110     35.654      0.000       3.703       4.134\n",
       "country_UK                     3.7239      0.103     36.139      0.000       3.522       3.926\n",
       "country_US                     3.3616      0.101     33.283      0.000       3.164       3.560\n",
       "source_Direct                 -0.1975      0.035     -5.703      0.000      -0.265      -0.130\n",
       "source_Seo                    -0.0494      0.028     -1.759      0.079      -0.105       0.006\n",
       "age_(24, 30]                  -0.5137      0.029    -17.436      0.000      -0.571      -0.456\n",
       "age_(30, 36]                  -0.9550      0.034    -28.270      0.000      -1.021      -0.889\n",
       "age_(36, 123]                 -1.5094      0.040    -37.867      0.000      -1.587      -1.431\n",
       "total_page_visited_(2, 4]      1.4463      0.351      4.118      0.000       0.758       2.135\n",
       "total_page_visited_(4, 7]      3.3916      0.321     10.558      0.000       2.762       4.021\n",
       "total_page_visited_(7, 29]     7.4737      0.317     23.610      0.000       6.853       8.094\n",
       "new_user                      -1.6954      0.025    -68.084      0.000      -1.744      -1.647\n",
       "==============================================================================================\n",
       "\n",
       "Possibly complete quasi-separation: A fraction 0.29 of observations can be\n",
       "perfectly predicted. This might indicate that there is complete\n",
       "quasi-separation. In this case some parameters will not be identified.\n",
       "\"\"\""
      ]
     },
     "execution_count": 13,
     "metadata": {},
     "output_type": "execute_result"
    }
   ],
   "source": [
    "logit = smf.Logit(y, X)\n",
    "result = logit.fit()\n",
    "result.summary()"
   ]
  },
  {
   "cell_type": "markdown",
   "metadata": {},
   "source": [
    "#### Upon analysis, I found that the output from statsmodels indicates that the variable total_pages_visited is possibly predicting the output variable perfectly. This indicates quasi-separation but we will not drop this variable from the model otherwise it may introduce bias. "
   ]
  },
  {
   "cell_type": "markdown",
   "metadata": {},
   "source": [
    "### Interpretation\n",
    "\n",
    "Except Source_Seo, all other variables appear to be significant. We can interpret them as:\n",
    "1. The odds of successfully converting a user in Germany is 391% more than for a user in China. Similarly, the odds of successful conversion for users from UK and US are 370% and 336% more than for users from China respectively.\n",
    "\n",
    "2. The odds of successfully converting a user via direct marketing is 19% less than targeting them with ads. Similarly, odds of conversion by Seo is 5% less than targeting them with ads\n",
    "\n",
    "3. The odds of successfully converting a user in age group 24-30 is 51% lower than for users in age group 17-24. Similarly, the odds for users in age group 30-36 and 36 and above are 95% and 150% lower than for users in age group 17-24 respectively. This could be because younger people are more likely to make purchases online.\n",
    "\n",
    "4. The odds of successfully converting a user who visited the page more than 7 times is 747% more than for a user who visited the page 1-2 times. This suggests that higher the # of times users visit the page, the more likely is their conversion. \n",
    "\n",
    "5. The odds of successfully converting a new user is 169% lower than an old user. This could be because old users trust the site and are more willing to make a purchase.\n"
   ]
  },
  {
   "cell_type": "markdown",
   "metadata": {},
   "source": [
    "### Using Sklearn and splitting data into train and test set\n",
    "\n",
    "#### P.S  While logistic regression is best suited for interpretation and not for prediction, we will still run this model to see which variables are important to the model so that we can make informed recommendations to the marketing and product teams"
   ]
  },
  {
   "cell_type": "code",
   "execution_count": 141,
   "metadata": {},
   "outputs": [
    {
     "name": "stdout",
     "output_type": "stream",
     "text": [
      "Accuracy with 10 fold CV for liblinear is 0.986080\n",
      "\n",
      " [[100646    419]\n",
      " [  1021   2260]]\n"
     ]
    }
   ],
   "source": [
    "#Here, we are using age and total pages visited as continuous variables\n",
    "\n",
    "X = conversion_data[['country_Germany','country_UK','country_US','source_Direct',\n",
    "                    'source_Seo','age','total_pages_visited','new_user']]\n",
    "\n",
    "y = conversion_data['converted']\n",
    "\n",
    "\n",
    "X_train, X_test, y_train, y_test = train_test_split(X, y, test_size=0.33, random_state=42)\n",
    "\n",
    "\n",
    "\n",
    "lm = LogisticRegression(solver = 'liblinear', max_iter = 10000)\n",
    "\n",
    "lm.fit(X_train, y_train)\n",
    "\n",
    "print(\"Accuracy with 10 fold CV for liblinear is %f\" %cross_val_score(lm, X_train , y_train, cv=10, scoring = 'accuracy').mean())\n",
    "\n",
    "y_hat_liblinear = lm.predict(X_test)\n",
    "\n",
    "print(\"\\n\",confusion_matrix(y_test, y_hat_liblinear))"
   ]
  },
  {
   "cell_type": "code",
   "execution_count": 59,
   "metadata": {},
   "outputs": [
    {
     "name": "stdout",
     "output_type": "stream",
     "text": [
      "0.843598357596118\n"
     ]
    }
   ],
   "source": [
    "precision=2260/(2260+419)\n",
    "print(precision)"
   ]
  },
  {
   "cell_type": "code",
   "execution_count": 142,
   "metadata": {
    "scrolled": true
   },
   "outputs": [
    {
     "name": "stderr",
     "output_type": "stream",
     "text": [
      "/Users/praanshu/anaconda3/lib/python3.7/site-packages/sklearn/preprocessing/data.py:334: DataConversionWarning: Data with input dtype int64 were all converted to float64 by MinMaxScaler.\n",
      "  return self.partial_fit(X, y)\n",
      "/Users/praanshu/anaconda3/lib/python3.7/site-packages/pandas/core/indexing.py:543: SettingWithCopyWarning: \n",
      "A value is trying to be set on a copy of a slice from a DataFrame.\n",
      "Try using .loc[row_indexer,col_indexer] = value instead\n",
      "\n",
      "See the caveats in the documentation: http://pandas.pydata.org/pandas-docs/stable/indexing.html#indexing-view-versus-copy\n",
      "  self.obj[item] = s\n"
     ]
    }
   ],
   "source": [
    "#We will now standardize the continuous variables\n",
    "\n",
    "from sklearn.preprocessing import MinMaxScaler\n",
    "\n",
    "sc = MinMaxScaler()\n",
    "\n",
    "min_max = sc.fit(X_train.loc[:,['age','total_pages_visited']])\n",
    "X_train_std = min_max.transform(X_train.loc[:,['age','total_pages_visited']])\n",
    "X_test_std =  min_max.transform(X_test.loc[:,['age','total_pages_visited']])\n",
    "\n",
    "X_train.loc[:, ['age', 'total_pages_visited']] = X_train_std\n",
    "X_test.loc[:, ['age', 'total_pages_visited']] = X_test_std\n"
   ]
  },
  {
   "cell_type": "code",
   "execution_count": 143,
   "metadata": {},
   "outputs": [
    {
     "data": {
      "text/html": [
       "<div>\n",
       "<style scoped>\n",
       "    .dataframe tbody tr th:only-of-type {\n",
       "        vertical-align: middle;\n",
       "    }\n",
       "\n",
       "    .dataframe tbody tr th {\n",
       "        vertical-align: top;\n",
       "    }\n",
       "\n",
       "    .dataframe thead th {\n",
       "        text-align: right;\n",
       "    }\n",
       "</style>\n",
       "<table border=\"1\" class=\"dataframe\">\n",
       "  <thead>\n",
       "    <tr style=\"text-align: right;\">\n",
       "      <th></th>\n",
       "      <th>country_Germany</th>\n",
       "      <th>country_UK</th>\n",
       "      <th>country_US</th>\n",
       "      <th>source_Direct</th>\n",
       "      <th>source_Seo</th>\n",
       "      <th>age</th>\n",
       "      <th>total_pages_visited</th>\n",
       "      <th>new_user</th>\n",
       "    </tr>\n",
       "  </thead>\n",
       "  <tbody>\n",
       "    <tr>\n",
       "      <th>122073</th>\n",
       "      <td>0</td>\n",
       "      <td>0</td>\n",
       "      <td>1</td>\n",
       "      <td>1</td>\n",
       "      <td>0</td>\n",
       "      <td>0.127660</td>\n",
       "      <td>0.250000</td>\n",
       "      <td>0</td>\n",
       "    </tr>\n",
       "    <tr>\n",
       "      <th>123957</th>\n",
       "      <td>0</td>\n",
       "      <td>0</td>\n",
       "      <td>1</td>\n",
       "      <td>1</td>\n",
       "      <td>0</td>\n",
       "      <td>0.180851</td>\n",
       "      <td>0.142857</td>\n",
       "      <td>1</td>\n",
       "    </tr>\n",
       "    <tr>\n",
       "      <th>152147</th>\n",
       "      <td>0</td>\n",
       "      <td>0</td>\n",
       "      <td>1</td>\n",
       "      <td>1</td>\n",
       "      <td>0</td>\n",
       "      <td>0.255319</td>\n",
       "      <td>0.000000</td>\n",
       "      <td>1</td>\n",
       "    </tr>\n",
       "    <tr>\n",
       "      <th>102773</th>\n",
       "      <td>0</td>\n",
       "      <td>0</td>\n",
       "      <td>0</td>\n",
       "      <td>1</td>\n",
       "      <td>0</td>\n",
       "      <td>0.085106</td>\n",
       "      <td>0.250000</td>\n",
       "      <td>1</td>\n",
       "    </tr>\n",
       "    <tr>\n",
       "      <th>5562</th>\n",
       "      <td>0</td>\n",
       "      <td>1</td>\n",
       "      <td>0</td>\n",
       "      <td>0</td>\n",
       "      <td>1</td>\n",
       "      <td>0.180851</td>\n",
       "      <td>0.142857</td>\n",
       "      <td>1</td>\n",
       "    </tr>\n",
       "  </tbody>\n",
       "</table>\n",
       "</div>"
      ],
      "text/plain": [
       "        country_Germany  country_UK  country_US  source_Direct  source_Seo  \\\n",
       "122073                0           0           1              1           0   \n",
       "123957                0           0           1              1           0   \n",
       "152147                0           0           1              1           0   \n",
       "102773                0           0           0              1           0   \n",
       "5562                  0           1           0              0           1   \n",
       "\n",
       "             age  total_pages_visited  new_user  \n",
       "122073  0.127660             0.250000         0  \n",
       "123957  0.180851             0.142857         1  \n",
       "152147  0.255319             0.000000         1  \n",
       "102773  0.085106             0.250000         1  \n",
       "5562    0.180851             0.142857         1  "
      ]
     },
     "execution_count": 143,
     "metadata": {},
     "output_type": "execute_result"
    }
   ],
   "source": [
    "X_train.head()"
   ]
  },
  {
   "cell_type": "markdown",
   "metadata": {},
   "source": [
    "### Using 10-fold cross validation to find the best tuning parameter - C using 'liblinear' and l1 penalty"
   ]
  },
  {
   "cell_type": "code",
   "execution_count": 42,
   "metadata": {},
   "outputs": [
    {
     "data": {
      "image/png": "[encoded data removed]",
      "text/plain": [
       "<Figure size 432x288 with 1 Axes>"
      ]
     },
     "metadata": {
      "needs_background": "light"
     },
     "output_type": "display_data"
    },
    {
     "name": "stdout",
     "output_type": "stream",
     "text": [
      "Our optimal C is 12.915497\n",
      "Our accuracy at optimal C is 0.986089\n"
     ]
    }
   ],
   "source": [
    "c_list = np.logspace(-10,10,10) \n",
    "c_index = np.linspace(-10,10,10)\n",
    "\n",
    "cv_scores = []\n",
    "for c_score in c_list:\n",
    "    lm = LogisticRegression(C = c_score,  solver = 'liblinear', max_iter  = 10000, penalty = 'l1')\n",
    "    cv_scores.append(cross_val_score(lm, X_train, y_train, cv = 10, scoring = 'accuracy').mean())\n",
    "\n",
    "plt.plot(c_index, cv_scores)\n",
    "plt.show()\n",
    "\n",
    "print(\"Our optimal C is %f\" %c_list[np.argmax(cv_scores)])   \n",
    "print(\"Our accuracy at optimal C is %f\" %np.max(cv_scores))"
   ]
  },
  {
   "cell_type": "markdown",
   "metadata": {},
   "source": [
    "### Localizing search"
   ]
  },
  {
   "cell_type": "code",
   "execution_count": 43,
   "metadata": {},
   "outputs": [
    {
     "data": {
      "image/png": "[encoded data removed]",
      "text/plain": [
       "<Figure size 432x288 with 1 Axes>"
      ]
     },
     "metadata": {
      "needs_background": "light"
     },
     "output_type": "display_data"
    },
    {
     "name": "stdout",
     "output_type": "stream",
     "text": [
      "Our optimal C is 2.469388\n",
      "Our accuracy at optimal C is 0.986094\n"
     ]
    }
   ],
   "source": [
    "c_list = np.linspace(1,13,50) \n",
    "cv_scores = []\n",
    "for c_score in c_list:\n",
    "    lm = LogisticRegression(C = c_score,  solver = 'liblinear', max_iter  = 10000, penalty = 'l1', random_state=42)\n",
    "    cv_scores.append(cross_val_score(lm, X_train, y_train, cv = 10, scoring = 'accuracy').mean())\n",
    "\n",
    "plt.plot(c_list, cv_scores)\n",
    "plt.show()\n",
    "\n",
    "print(\"Our optimal C is %f\" %c_list[np.argmax(cv_scores)])   \n",
    "print(\"Our accuracy at optimal C is %f\" %np.max(cv_scores))"
   ]
  },
  {
   "cell_type": "code",
   "execution_count": 44,
   "metadata": {},
   "outputs": [
    {
     "name": "stdout",
     "output_type": "stream",
     "text": [
      "[(3.6602954794908884, 'country_Germany'), (3.5024916494146026, 'country_UK'), (3.10259818637686, 'country_US'), (-0.18870656126977306, 'source_Direct'), (-0.016439121077746224, 'source_Seo'), (-7.141297815041676, 'age'), (21.35077318709223, 'total_pages_visited'), (-1.7583173774957566, 'new_user')]\n"
     ]
    }
   ],
   "source": [
    "lm = LogisticRegression(C = 2.46 ,  solver = 'liblinear', max_iter  = 50000, penalty = 'l1')\n",
    "lm.fit(X_train,y_train)\n",
    "\n",
    "Var_coef = zip(lm.coef_[0,:],X_train.columns.values)\n",
    "print(list(Var_coef))"
   ]
  },
  {
   "cell_type": "code",
   "execution_count": 92,
   "metadata": {},
   "outputs": [
    {
     "name": "stdout",
     "output_type": "stream",
     "text": [
      "Predicted Conversion rate: 2.53 %\n",
      "Actual Conversion rate for test set 3.14 %\n"
     ]
    }
   ],
   "source": [
    "# Since no feature has reduced to zero, this suggests that we include all of them in our final model\n",
    "\n",
    "lr1= LogisticRegression(solver = 'liblinear', max_iter=10000)\n",
    "lr1.fit(X_train,y_train)\n",
    "\n",
    "y_hat = lr1.predict(X_test)\n",
    "\n",
    "No_of_sessions = len(y_test)\n",
    "Converted= sum(y_hat)\n",
    "Conversion_rate = Converted/No_of_sessions\n",
    "print('Predicted Conversion rate:', round((Conversion_rate*100),2),\"%\")\n",
    "\n",
    "print ('Actual Conversion rate for test set', round ((sum(y_test)/(No_of_sessions)*100),2),\"%\")"
   ]
  },
  {
   "cell_type": "code",
   "execution_count": null,
   "metadata": {},
   "outputs": [],
   "source": []
  },
  {
   "cell_type": "code",
   "execution_count": 93,
   "metadata": {},
   "outputs": [
    {
     "name": "stdout",
     "output_type": "stream",
     "text": [
      "FNR : 0.3172813166717464,\n",
      "FPR : 0.003918270420026715\n",
      "[[100669    396]\n",
      " [  1041   2240]]\n"
     ]
    }
   ],
   "source": [
    "prediction = list(map(round, y_hat)) \n",
    "confmat= confusion_matrix(y_test,prediction)\n",
    "TN = confmat[0,0] #True Negative\n",
    "FN = confmat[1,0] #False Negative\n",
    "FP = confmat[0,1] #False Positive\n",
    "TP = confmat[1,1] #True Positive\n",
    "\n",
    "\n",
    "FNR = float(FN)/(FN + TP)\n",
    "FPR = float(FP)/(FP + TN)\n",
    "print(\"FNR : {0},\\nFPR : {1}\".format(FNR, FPR))\n",
    "print(confmat)  \n",
    "\n",
    " #This confusion matrix shows that our FNR and FPR both increased as compared to our results from statsmodel.\n",
    " #Since our goal is to predict Survival rate with accuracy, we cannot afford to have a high FNR."
   ]
  },
  {
   "cell_type": "code",
   "execution_count": 94,
   "metadata": {},
   "outputs": [
    {
     "name": "stdout",
     "output_type": "stream",
     "text": [
      "0.849772382397572\n"
     ]
    }
   ],
   "source": [
    "precision = 2240/(2240+396)\n",
    "print(precision)"
   ]
  },
  {
   "cell_type": "code",
   "execution_count": null,
   "metadata": {},
   "outputs": [],
   "source": []
  },
  {
   "cell_type": "markdown",
   "metadata": {},
   "source": [
    "### We see that there is a marginal increase in precision from our base model after we standardized our continuous features. The actual conversion rate of our dataset was 3.23%. We will now explore how changing the threshold changes our prediction rate"
   ]
  },
  {
   "cell_type": "code",
   "execution_count": 95,
   "metadata": {},
   "outputs": [
    {
     "name": "stdout",
     "output_type": "stream",
     "text": [
      "FNR : 0.18\n",
      "FPR : 0.014\n",
      "Err : 0.019\n",
      "Precision : 0.663\n"
     ]
    }
   ],
   "source": [
    "def PredictThreshold(Predictprob, Threshold): \n",
    "        y_predict = 0\n",
    "        if (Predictprob >= Threshold):\n",
    "            y_predict = 1\n",
    "        return y_predict\n",
    "    \n",
    "y_hat_probability = lr1.predict_proba(X_test).T[1]\n",
    "ThresholdRange =  np.linspace(0, 1, 100)\n",
    "\n",
    "# Threshold = 0.2\n",
    "y_hat_predict_threshold= []\n",
    "for i in range(0,len(y_hat_probability)):\n",
    "    y_hat_predict_threshold.append(PredictThreshold(y_hat_probability[i], .2))\n",
    "confmat1= (confusion_matrix(y_test, y_hat_predict_threshold))\n",
    "\n",
    "TN = confmat1[0,0] #True Negative\n",
    "FN = confmat1[1,0] #False Negative\n",
    "FP = confmat1[0,1] #False Positive\n",
    "TP = confmat1[1,1]\n",
    "\n",
    "FNR = float(FN)/(FN + TP)\n",
    "FPR = float(FP)/(FP + TN)\n",
    "Err = float(FP+FN)/(TN+FN+FP+TP)\n",
    "\n",
    "Precision= float(TP)/(TP+FP)\n",
    "\n",
    "print(\"FNR : {}\\nFPR : {}\\nErr : {}\\nPrecision : {}\".format(round(FNR,3), round(FPR,3), round(Err,3), round(Precision,3)))"
   ]
  },
  {
   "cell_type": "code",
   "execution_count": 98,
   "metadata": {
    "scrolled": true
   },
   "outputs": [
    {
     "name": "stdout",
     "output_type": "stream",
     "text": [
      "FNR : 0.227\n",
      "FPR : 0.009\n",
      "Err : 0.016\n",
      "Precision : 0.744\n"
     ]
    }
   ],
   "source": [
    "# Threshold = 0.3\n",
    "y_hat_predict_threshold= []\n",
    "for i in range(0,len(y_hat_probability)):\n",
    "    y_hat_predict_threshold.append(PredictThreshold(y_hat_probability[i], .3))\n",
    "confmat1= (confusion_matrix(y_test, y_hat_predict_threshold))\n",
    "\n",
    "TN = confmat1[0,0] #True Negative\n",
    "FN = confmat1[1,0] #False Negative\n",
    "FP = confmat1[0,1] #False Positive\n",
    "TP = confmat1[1,1]\n",
    "\n",
    "FNR = float(FN)/(FN + TP)\n",
    "FPR = float(FP)/(FP + TN)\n",
    "Err = float(FP+FN)/(TN+FN+FP+TP)\n",
    "Precision= float(TP)/(TP+FP)\n",
    "\n",
    "print(\"FNR : {}\\nFPR : {}\\nErr : {}\\nPrecision : {}\".format(round(FNR,3), round(FPR,3), round(Err,3), round(Precision,3)))"
   ]
  },
  {
   "cell_type": "code",
   "execution_count": 100,
   "metadata": {},
   "outputs": [
    {
     "name": "stdout",
     "output_type": "stream",
     "text": [
      "Predicted Conversion rate at threshold 0.3 : 3.27 %\n"
     ]
    }
   ],
   "source": [
    "No_of_sessions = len(y_hat_predict_threshold)\n",
    "Converted= sum(y_hat_predict_threshold)\n",
    "Conversion_rate = Converted/No_of_sessions\n",
    "print('Predicted Conversion rate at threshold 0.3 :', round((Conversion_rate*100),2),\"%\")"
   ]
  },
  {
   "cell_type": "markdown",
   "metadata": {},
   "source": [
    "#### Since our precision is high at threshold = 0.3, and the predict conversion rate closely matches the actual rate, we will choose this threshold for our model."
   ]
  },
  {
   "cell_type": "code",
   "execution_count": 72,
   "metadata": {
    "scrolled": true
   },
   "outputs": [
    {
     "name": "stdout",
     "output_type": "stream",
     "text": [
      "0.9856087318036095\n"
     ]
    },
    {
     "data": {
      "image/png": "[encoded data removed]",
      "text/plain": [
       "<Figure size 432x288 with 1 Axes>"
      ]
     },
     "metadata": {
      "needs_background": "light"
     },
     "output_type": "display_data"
    }
   ],
   "source": [
    "print(roc_auc_score(y_test, y_hat_probability))\n",
    "vals = roc_curve(y_test, y_hat_probability)\n",
    "\n",
    "plt.plot(vals[0], vals[1])\n",
    "plt.xlabel('False Positive Rate')\n",
    "plt.ylabel('True Positive Rate')\n",
    "plt.show()"
   ]
  },
  {
   "cell_type": "markdown",
   "metadata": {},
   "source": [
    "### Conclusion: From our logistic regression analysis using sklearn, we found that:\n",
    "\n",
    "- The prediction of conversion rate for test set is 2.53% while the actual conversion rate for test set was 3.14%. We therefore explored different thresholds to increase precision and settled on 0.3 as it gave a high precision without much increase in error\n",
    "- The ROC curve is close to 1 indicating a good fit\n",
    "- The marketing team should focus on the ones our model predicts have a high chance of conversion based on a threshold of 0.3\n",
    "- If we need to generate more marketing leads, and high precision is not a strong concern, we can consider reducing the threshold"
   ]
  },
  {
   "cell_type": "markdown",
   "metadata": {},
   "source": [
    "### We will now use KNN, Random Forests and Boosting as these models are better at prediction for classification problems and try to predict conversion rate"
   ]
  },
  {
   "cell_type": "markdown",
   "metadata": {},
   "source": [
    "## KNN"
   ]
  },
  {
   "cell_type": "code",
   "execution_count": 26,
   "metadata": {},
   "outputs": [],
   "source": [
    "# #Since our data is already standardised, we will use the same dataset.\n"
   ]
  },
  {
   "cell_type": "code",
   "execution_count": 74,
   "metadata": {},
   "outputs": [
    {
     "data": {
      "text/plain": [
       "KNeighborsClassifier(algorithm='auto', leaf_size=30, metric='minkowski',\n",
       "           metric_params=None, n_jobs=None, n_neighbors=5, p=2,\n",
       "           weights='uniform')"
      ]
     },
     "execution_count": 74,
     "metadata": {},
     "output_type": "execute_result"
    }
   ],
   "source": [
    "from sklearn import neighbors, metrics\n",
    "\n",
    "knn= neighbors.KNeighborsClassifier(n_neighbors = 5, weights = 'uniform')\n",
    "\n",
    "knn.fit(X_train, y_train)"
   ]
  },
  {
   "cell_type": "code",
   "execution_count": 75,
   "metadata": {},
   "outputs": [
    {
     "name": "stdout",
     "output_type": "stream",
     "text": [
      "Score: 0.984675981829682\n",
      "0.015324018170318032\n"
     ]
    }
   ],
   "source": [
    "Score = knn.score(X_test, y_test)\n",
    "print('Score:',Score)\n",
    "y_pred_knn = knn.predict(X_test)\n",
    "MissClassificationError = 1 - Score\n",
    "print(MissClassificationError)\n",
    "\n",
    "\n",
    "#  We are not sure if there is overfitting as value for KNN was chosen randomly. We will now use CV to chose optimal\n",
    "# value for Knn."
   ]
  },
  {
   "cell_type": "code",
   "execution_count": 101,
   "metadata": {},
   "outputs": [
    {
     "name": "stdout",
     "output_type": "stream",
     "text": [
      "FNR : 0.3194148125571472,\n",
      "FPR : 0.0054519368723099,\n",
      "Precision : 0.8020833333333334\n",
      "[[100514    551]\n",
      " [  1048   2233]]\n"
     ]
    }
   ],
   "source": [
    "confmat= confusion_matrix(y_test,y_pred_knn) ## We will comapre this confusion matrix with CM from optimal Knn to see if\n",
    "                                        ## we could better our model\n",
    "TN = confmat[0,0] #True Negative\n",
    "FN = confmat[1,0] #False Negative\n",
    "FP = confmat[0,1] #False Positive\n",
    "TP = confmat[1,1] #True Positive\n",
    "\n",
    "\n",
    "FNR = float(FN)/(FN + TP)\n",
    "FPR = float(FP)/(FP + TN)\n",
    "Precision = float(TP)/(TP+FP)\n",
    "print(\"FNR : {0},\\nFPR : {1},\\nPrecision : {2}\".format(FNR, FPR, Precision))\n",
    "print(confmat)   "
   ]
  },
  {
   "cell_type": "code",
   "execution_count": 179,
   "metadata": {
    "scrolled": true
   },
   "outputs": [
    {
     "data": {
      "image/png": "[encoded data removed]",
      "text/plain": [
       "<Figure size 432x288 with 1 Axes>"
      ]
     },
     "metadata": {
      "needs_background": "light"
     },
     "output_type": "display_data"
    },
    {
     "name": "stdout",
     "output_type": "stream",
     "text": [
      "The best K is 15.000000\n"
     ]
    }
   ],
   "source": [
    "CV_Scores = []\n",
    "RangeOfK = range(1,16)\n",
    "\n",
    "for k in RangeOfK:\n",
    "    knn = neighbors.KNeighborsClassifier(n_neighbors = k, weights= 'uniform')\n",
    "    CV_Scores.append(cross_val_score(knn, X_train, y_train, cv=10, scoring = 'accuracy').mean())    \n",
    "\n",
    "plt.plot(RangeOfK, CV_Scores)\n",
    "plt.xlabel(\"K\")\n",
    "plt.ylabel(\"Cross-Validation Accuracy Score\")\n",
    "plt.show()\n",
    "\n",
    "print(\"The best K is %f\" %RangeOfK[np.argmax(CV_Scores)])"
   ]
  },
  {
   "cell_type": "markdown",
   "metadata": {},
   "source": [
    "## Due to the large size of the data, this algorithm is very heavy, and since there is only marginal increase in CV accuracy, and the CV accuracy score is itself very high, we will consider a range of 1-15 for K values. We see highest K is at K=15, but there is only marginal improvement in accuracy beyond k=6"
   ]
  },
  {
   "cell_type": "code",
   "execution_count": null,
   "metadata": {},
   "outputs": [],
   "source": [
    "## We could have chosen k=6 for faster computation without significantly compromising on accuracy.\n",
    "## But here we use k=15"
   ]
  },
  {
   "cell_type": "code",
   "execution_count": 149,
   "metadata": {},
   "outputs": [
    {
     "name": "stdout",
     "output_type": "stream",
     "text": [
      "Score: 0.9856343319341422\n"
     ]
    }
   ],
   "source": [
    "Knn_15= neighbors.KNeighborsClassifier(n_neighbors = 15, weights = 'uniform')\n",
    "\n",
    "Knn_15.fit(X_train, y_train)\n",
    "\n",
    "print(\"Score:\", Knn_15.score(X_test,y_test))"
   ]
  },
  {
   "cell_type": "code",
   "execution_count": 180,
   "metadata": {},
   "outputs": [
    {
     "name": "stdout",
     "output_type": "stream",
     "text": [
      "Missclassification error : 0.015324018170318032\n"
     ]
    }
   ],
   "source": [
    "print(\"Missclassification error :\", (1-Score))"
   ]
  },
  {
   "cell_type": "markdown",
   "metadata": {},
   "source": [
    "#####  K=15 produces a high accuracy score of 98.56% with a misclassification error of just 1.5%, showing improvement over our base model of k=5"
   ]
  },
  {
   "cell_type": "code",
   "execution_count": 150,
   "metadata": {},
   "outputs": [
    {
     "name": "stdout",
     "output_type": "stream",
     "text": [
      "FNR : 0.3236818043279488,\n",
      "FPR : 0.0043239499332113,\n",
      " Precision: 0.8354668674698795\n",
      "[[100628    437]\n",
      " [  1062   2219]]\n"
     ]
    }
   ],
   "source": [
    "y_hat = Knn_15.predict(X_test)\n",
    "\n",
    "confmat= confusion_matrix(y_test,y_hat) \n",
    "TN = confmat[0,0] #True Negative\n",
    "FN = confmat[1,0] #False Negative\n",
    "FP = confmat[0,1] #False Positive\n",
    "TP = confmat[1,1] #True Positive\n",
    "\n",
    "FNR = float(FN)/(FN + TP)\n",
    "FPR = float(FP)/(FP + TN)\n",
    "Precision = float(TP)/(TP+FP)\n",
    "print(\"FNR : {0},\\nFPR : {1},\\n Precision: {2}\".format(FNR, FPR, Precision))\n",
    "\n",
    "print(confmat)  "
   ]
  },
  {
   "cell_type": "code",
   "execution_count": 151,
   "metadata": {},
   "outputs": [
    {
     "name": "stdout",
     "output_type": "stream",
     "text": [
      "Predicted Conversion rate: 2.55 %\n"
     ]
    }
   ],
   "source": [
    "No_of_sessions = len(y_hat)\n",
    "Converted= sum(y_hat)\n",
    "Conversion_rate = Converted/No_of_sessions\n",
    "print('Predicted Conversion rate:', round((Conversion_rate*100),2),\"%\")"
   ]
  },
  {
   "cell_type": "code",
   "execution_count": 35,
   "metadata": {},
   "outputs": [],
   "source": [
    "## Comparing our results with the CM of LR, we see that FNR has increased slightly. "
   ]
  },
  {
   "cell_type": "code",
   "execution_count": 161,
   "metadata": {},
   "outputs": [
    {
     "name": "stdout",
     "output_type": "stream",
     "text": [
      "0.9500688273363233\n"
     ]
    },
    {
     "data": {
      "image/png": "[encoded data removed]",
      "text/plain": [
       "<Figure size 432x288 with 1 Axes>"
      ]
     },
     "metadata": {
      "needs_background": "light"
     },
     "output_type": "display_data"
    }
   ],
   "source": [
    "y_hat_probability = Knn_15.predict_proba(X_test).T[1]\n",
    "print(roc_auc_score(y_test, y_hat_probability))\n",
    "vals = roc_curve(y_test, y_hat_probability)\n",
    "\n",
    "plt.plot(vals[0], vals[1])\n",
    "plt.xlabel('False Positive Rate')\n",
    "plt.ylabel('True Positive Rate')\n",
    "plt.show()"
   ]
  },
  {
   "cell_type": "markdown",
   "metadata": {},
   "source": [
    "#### The overall accuracy by ROC curve is less than that for LR but predicted conversion rate is slightly better."
   ]
  },
  {
   "cell_type": "markdown",
   "metadata": {},
   "source": [
    "#### Random Forest Classifier"
   ]
  },
  {
   "cell_type": "code",
   "execution_count": 123,
   "metadata": {},
   "outputs": [
    {
     "name": "stderr",
     "output_type": "stream",
     "text": [
      "/Users/praanshu/anaconda3/lib/python3.7/site-packages/sklearn/model_selection/_split.py:2053: FutureWarning: You should specify a value for 'cv' instead of relying on the default value. The default value will change from 3 to 5 in version 0.22.\n",
      "  warnings.warn(CV_WARNING, FutureWarning)\n",
      "/Users/praanshu/anaconda3/lib/python3.7/site-packages/sklearn/model_selection/_search.py:271: UserWarning: The total space of parameters 8 is smaller than n_iter=10. Running 8 iterations. For exhaustive searches, use GridSearchCV.\n",
      "  % (grid_size, self.n_iter, grid_size), UserWarning)\n"
     ]
    },
    {
     "name": "stdout",
     "output_type": "stream",
     "text": [
      "{'n_estimators': 1500, 'min_samples_leaf': 10}\n"
     ]
    }
   ],
   "source": [
    "from sklearn.ensemble import RandomForestClassifier\n",
    "\n",
    "\n",
    "X = conversion_data[['country_Germany','country_UK','country_US','source_Direct',\n",
    "                    'source_Seo','age','total_pages_visited','new_user']]\n",
    "\n",
    "y = conversion_data['converted']\n",
    "\n",
    "X_train, X_test, y_train, y_test = train_test_split(X, y, test_size=0.33, random_state=42)\n",
    "\n",
    "\n",
    "n_estimators= [500,1000,1500,2500]\n",
    "\n",
    "min_samples_leaf =[5,10]\n",
    "grid_param= {'n_estimators': n_estimators,\n",
    "            'min_samples_leaf': min_samples_leaf}\n",
    "\n",
    "from sklearn.model_selection import RandomizedSearchCV\n",
    "\n",
    "RFC = RandomForestClassifier(random_state=1)\n",
    "\n",
    "RFC_random= RandomizedSearchCV(estimator= RFC, param_distributions = grid_param, n_jobs=-1)\n",
    "\n",
    "RFC_random.fit(X_train,y_train)\n",
    "\n",
    "print(RFC_random.best_params_)\n"
   ]
  },
  {
   "cell_type": "code",
   "execution_count": 124,
   "metadata": {},
   "outputs": [
    {
     "data": {
      "image/png": "[encoded data removed]",
      "text/plain": [
       "<Figure size 432x288 with 1 Axes>"
      ]
     },
     "metadata": {
      "needs_background": "light"
     },
     "output_type": "display_data"
    }
   ],
   "source": [
    "Features = range(1,9)\n",
    "oob_score_RF = []\n",
    "for i in Features:\n",
    "        RFClass = RandomForestClassifier(n_estimators = 1500, #Number of trees - the more the better!\n",
    "                           max_features = i,     #How many features to randomly choose in each node \n",
    "                           min_samples_leaf = 10, #Minimum number of observations at each terminal node\n",
    "                           oob_score = True,\n",
    "                           random_state = 1,\n",
    "                           n_jobs = -1)\n",
    "        RFClass.fit(X_train,y_train)  \n",
    "        oob_score_RF.append(RFClass.oob_score_)\n",
    "\n",
    "plt.plot(Features, oob_score_RF)\n",
    "plt.xlabel(\"Number of Features\")\n",
    "plt.ylabel(\"Out of Bag Accuracy\")\n",
    "plt.show()             \n",
    "        \n",
    "\n",
    "# # it seems like choosing max_features as 1 is our best bet, but can also choose 4 as OOB accuracy is similar"
   ]
  },
  {
   "cell_type": "code",
   "execution_count": 130,
   "metadata": {
    "scrolled": false
   },
   "outputs": [
    {
     "data": {
      "text/plain": [
       "[(0.005202288703840498, 'source_Direct'),\n",
       " (0.008585865735512425, 'source_Seo'),\n",
       " (0.009244473823925346, 'country_Germany'),\n",
       " (0.011264761425181792, 'country_UK'),\n",
       " (0.012661049285144568, 'country_US'),\n",
       " (0.05837553054655556, 'new_user'),\n",
       " (0.05886816926604079, 'age'),\n",
       " (0.8357978612137984, 'total_pages_visited')]"
      ]
     },
     "execution_count": 130,
     "metadata": {},
     "output_type": "execute_result"
    }
   ],
   "source": [
    "sorted(zip(RFClass.feature_importances_,X_train.columns.values))\n"
   ]
  },
  {
   "cell_type": "markdown",
   "metadata": {},
   "source": [
    "### We need to be careful while considering the importance of features here as age and total pages visited are both continuous variables and hence may present more weightage than the other dummy variables."
   ]
  },
  {
   "cell_type": "code",
   "execution_count": 132,
   "metadata": {},
   "outputs": [
    {
     "name": "stdout",
     "output_type": "stream",
     "text": [
      "FNR : 0.31484303565985977,\n",
      "FPR : 0.004205214465937763,\n",
      "Precision : 0.8410026187803965\n",
      "[[100640    425]\n",
      " [  1033   2248]]\n"
     ]
    }
   ],
   "source": [
    "RFClass = RandomForestClassifier(n_estimators = 1500, #Refitting the model with best parameters\n",
    "                           max_features = 1,     \n",
    "                           min_samples_leaf = 10, \n",
    "                           oob_score = True,\n",
    "                           random_state = 1,\n",
    "                           n_jobs = -1)\n",
    "RFClass.fit(X_train,y_train)  \n",
    "\n",
    "\n",
    "y_hat = RFClass.predict(X_test)\n",
    "confmat= confusion_matrix(y_test,y_hat)\n",
    "\n",
    "TN = confmat[0,0] #True Negative\n",
    "FN = confmat[1,0] #False Negative\n",
    "FP = confmat[0,1] #False Positive\n",
    "TP = confmat[1,1] #True Positive\n",
    "\n",
    "\n",
    "FNR = float(FN)/(FN + TP)\n",
    "FPR = float(FP)/(FP + TN)\n",
    "Precision = float (TP)/(TP+FP)\n",
    "print(\"FNR : {0},\\nFPR : {1},\\nPrecision : {2}\".format(FNR, FPR, Precision))\n",
    "print(confmat)   "
   ]
  },
  {
   "cell_type": "code",
   "execution_count": 139,
   "metadata": {
    "scrolled": true
   },
   "outputs": [
    {
     "name": "stdout",
     "output_type": "stream",
     "text": [
      "Predicted Conversion rate 2.56 %\n"
     ]
    }
   ],
   "source": [
    "No_of_sessions = len(y_hat)\n",
    "Converted= sum(y_hat)\n",
    "Conversion_rate = Converted/No_of_sessions\n",
    "print('Predicted Conversion rate', round((Conversion_rate*100),2),\"%\")"
   ]
  },
  {
   "cell_type": "markdown",
   "metadata": {},
   "source": [
    "### The predicted conversion rate for Random Forests is slightly better than that from LR and KNN, but our precision decreased slightly from LR using sklearn"
   ]
  },
  {
   "cell_type": "markdown",
   "metadata": {},
   "source": [
    "### Boosting"
   ]
  },
  {
   "cell_type": "code",
   "execution_count": 127,
   "metadata": {},
   "outputs": [
    {
     "data": {
      "text/plain": [
       "GridSearchCV(cv=5, error_score='raise-deprecating',\n",
       "       estimator=GradientBoostingClassifier(criterion='friedman_mse', init=None,\n",
       "              learning_rate=0.1, loss='deviance', max_depth=3,\n",
       "              max_features='sqrt', max_leaf_nodes=None,\n",
       "              min_impurity_decrease=0.0, min_impurity_split=None,\n",
       "              min_samples_leaf=10, min_sa...        subsample=1, tol=0.0001, validation_fraction=0.1, verbose=0,\n",
       "              warm_start=False),\n",
       "       fit_params=None, iid=False, n_jobs=-1,\n",
       "       param_grid={'learning_rate': [0.05, 0.25, 0.75], 'n_estimators': [1000, 1500, 2000], 'max_depth': [2, 3]},\n",
       "       pre_dispatch='2*n_jobs', refit=True, return_train_score='warn',\n",
       "       scoring='accuracy', verbose=0)"
      ]
     },
     "execution_count": 127,
     "metadata": {},
     "output_type": "execute_result"
    }
   ],
   "source": [
    "parameter_list = {'learning_rate':[0.05, 0.25, 0.75], 'n_estimators':[1000,1500,2000],\n",
    "                 'max_depth':[2,3]}\n",
    "\n",
    "tuning = GridSearchCV(estimator =GradientBoostingClassifier(min_samples_split=2,\n",
    "                                                            min_samples_leaf=10, subsample=1,\n",
    "                                                            max_features='sqrt', random_state=1), \n",
    "                                                            param_grid = parameter_list, scoring='accuracy',\n",
    "                                                            n_jobs=-1,iid=False, cv=5)\n",
    "\n",
    "\n",
    "tuning.fit(X_train,y_train)\n"
   ]
  },
  {
   "cell_type": "code",
   "execution_count": 128,
   "metadata": {},
   "outputs": [
    {
     "data": {
      "text/plain": [
       "({'learning_rate': 0.05, 'max_depth': 2, 'n_estimators': 2000},\n",
       " 0.9860375524477865)"
      ]
     },
     "execution_count": 128,
     "metadata": {},
     "output_type": "execute_result"
    }
   ],
   "source": [
    "tuning.best_params_, tuning.best_score_"
   ]
  },
  {
   "cell_type": "code",
   "execution_count": 129,
   "metadata": {
    "scrolled": true
   },
   "outputs": [
    {
     "name": "stdout",
     "output_type": "stream",
     "text": [
      "Accuracy of the GBM on test set: 0.986\n",
      "              precision    recall  f1-score   support\n",
      "\n",
      "           0       0.99      1.00      0.99    101065\n",
      "           1       0.84      0.69      0.76      3281\n",
      "\n",
      "   micro avg       0.99      0.99      0.99    104346\n",
      "   macro avg       0.92      0.84      0.88    104346\n",
      "weighted avg       0.99      0.99      0.99    104346\n",
      "\n"
     ]
    },
    {
     "data": {
      "image/png": "[encoded data removed]",
      "text/plain": [
       "<Figure size 432x288 with 1 Axes>"
      ]
     },
     "metadata": {
      "needs_background": "light"
     },
     "output_type": "display_data"
    }
   ],
   "source": [
    "final_model=GradientBoostingClassifier(learning_rate = 0.05, n_estimators=2000 ,max_depth=2, \n",
    "                               min_samples_split=20, min_samples_leaf=7,max_features='sqrt' , \n",
    "                               subsample=0.95, random_state=1)\n",
    "\n",
    "final_model.fit(X_train,y_train)\n",
    "\n",
    "predictors=list(X_train)\n",
    "imp_features = pd.Series(final_model.feature_importances_, predictors).sort_values(ascending=False)\n",
    "imp_features.plot(kind='bar', title='Importance of Features')\n",
    "\n",
    "\n",
    "plt.ylabel('Feature Importance Score')\n",
    "print('Accuracy of the GBM on test set: {:.3f}'.format(final_model.score(X_test, y_test)))\n",
    "pred=final_model.predict(X_test)\n",
    "\n",
    "print(classification_report(y_test, pred))"
   ]
  },
  {
   "cell_type": "code",
   "execution_count": 140,
   "metadata": {},
   "outputs": [
    {
     "name": "stdout",
     "output_type": "stream",
     "text": [
      "Predicted Conversion rate 2.58 %\n"
     ]
    }
   ],
   "source": [
    "No_of_sessions = len(pred)\n",
    "Converted= sum(pred)\n",
    "Conversion_rate = Converted/No_of_sessions\n",
    "print('Predicted Conversion rate', round((Conversion_rate*100),2),\"%\")"
   ]
  },
  {
   "cell_type": "markdown",
   "metadata": {},
   "source": [
    "### The predicted conversion rate for boosting is the best of the lot, with precision being almost the same as in the other models. \n"
   ]
  },
  {
   "cell_type": "markdown",
   "metadata": {},
   "source": [
    "## Summary and conclusion\n",
    "\n",
    "In this analysis I explored several models to predict the conversion rate for users. At first, I performed exploratory analyses of the features to make sense of the data. My key findings from the exploratory analysis were: \n",
    "\n",
    "1. Old users who visited the page 7 or more times were among the highest ones converted\n",
    "2. Germany had the highest percentage conversion rate among countries\n",
    "3. Ads were the most successful source of targeting customers\n",
    "4. The overall conversion rate in the dataset was 3.2% only\n",
    "\n",
    "\n",
    "\n",
    "Since this was a classification problem with dichotomous output, I decided to use logistic regression, KNN, Random Forests and Boosting methods to predict the converison rate. While logistic regression is more suited for interpretation, my goal in using both- sklearn and statsmodels was to interpret the coefficients and see how well the model performs compared to the others. I also refrained from using Decision Trees since it is more suited for interpretation.\n",
    "\n",
    "#### LR using Statsmodels: \n",
    "I then tried to run a logistic regression using statsmodels.api in order to interpret the features in the model. To do that, I grouped together ages and total pages visited so that our interpretation for those features is easier. Upon running the model, it was clear that total_pages_visited is predicting the output almost completely, resulting in a possible complete quasi seperation. Nevertheless, I did not remove the feature from the model, else it would introduce a bias. Source_Seo was insignificant but was not removed from the model as its other dummies were significant.\n",
    "\n",
    "#### LR using Sklearn:\n",
    "In order to find which variables should be kept in the model, I used Sklearn, and tried to find the best tuning parameter C. Interestingly, none of the features reduced to zero, suggesting all are significant. However, after standardizing the features in order to tune C, the precision rate improved slightly to 0.89 and prediction of conversion rate was 2.53%. That suggested, that if we were to reach out to the marketing team with the leads generated from this model, there is a high chance of conversion of previously non-converts. Here, we can take the False Positives as leads as the model suggests they had a higher likelihood to convert, but they did not in the previous session.\n",
    "\n",
    "I then tried to play around with the threshold values. At a threshold of 0.3, the precision rate dropped slightly but the prediction rate improved. This meant that we can now reach out to the marketing team with an even larger set of lead generation, however, they probably will be slightly less reliable was the previous ones.\n",
    "\n",
    "#### KNN:\n",
    "Next, I used KNN model for prediction of converison rate. The algorithm was pretty computation heavy, and so I tried to limit the range of K as the accuracy for almost all values in range(1,16) was above 98%. The prediction for conversion rate showed improvement over the rate we got from logistic regression at 2.55%\n",
    "\n",
    "#### Random Forests:\n",
    "Using Random forests, I first tried to tune the hyper parameters using Randomized Search CV and found optimal value for n_estimators, min_samples_leaf and max_features. Using those optimal values, I refit the RF model and found the predicted conversion rate to be 2.56%. It was marginally better than that for KNN. I also found the most important features, but there is a possibility of bias there as age and total_pages_visited were continuous variables and may have had more importance than the dummies. So we cannot trust that completely.\n",
    "\n",
    "#### Boosting:\n",
    "Finally, I tried using Boosting to predict the conversion rate, and tuning the hyperparameters with Grid search on train set. Using those tuned hyper parameters to fit the model, I found that the precision for prediction of conversion rate is 0.84 and the predicted conversion rate was 2.58%. This was better than what we found for all other models and gave the best prediction of the lot.\n",
    "\n",
    "\n",
    "\n"
   ]
  },
  {
   "cell_type": "markdown",
   "metadata": {},
   "source": [
    "## Recommendation to marketing and product team\n",
    "\n",
    "In order to improve the conversion rate, my recommendation would be:\n",
    "\n",
    "1. Since our Boosting model has the highest predicted conversion rate, they should target the leads (False Positives) generated from that model for a higher probability of conversion.\n",
    "\n",
    "2. The marketing team should also explore the leads generated from logistic regression model at a threshold of 0.3 if they need a larger pool to pursue\n",
    "\n",
    "3. Our exploratory analyses, Random forests and Boosting also suggested that old customers, who have visited the page more than 7 times are more likely to convert than anyone else. The marketing team should hence target those customers as well, as they have high probability of conversion\n",
    "\n",
    "4. Another suggestion for the product team could be to think of ways to make their product and website more appealing to new customers in the higher age bracket, as elder customers tend to be more vary of online purchases \n",
    "\n",
    "5. While the models did not deem source of marketing as an important feature, our exploratory analysis did suggest that there were more successful conversions when the source was Ads as compared to direct marketing. Hence, it may be beneficial to focus more on marketing via Ads. If however Ads are more expensive, we can resort to other marketing channels without much hit to conversions. More cost-benefit analysis can be undertaken to understand and optimize marketing channel spend.\n"
   ]
  },
  {
   "cell_type": "code",
   "execution_count": null,
   "metadata": {},
   "outputs": [],
   "source": []
  }
 ],
 "metadata": {
  "kernelspec": {
   "display_name": "Python 3",
   "language": "python",
   "name": "python3"
  },
  "language_info": {
   "codemirror_mode": {
    "name": "ipython",
    "version": 3
   },
   "file_extension": ".py",
   "mimetype": "text/x-python",
   "name": "python",
   "nbconvert_exporter": "python",
   "pygments_lexer": "ipython3",
   "version": "3.7.3"
  }
 },
 "nbformat": 4,
 "nbformat_minor": 2
}
