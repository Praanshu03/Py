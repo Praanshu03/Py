{
 "cells": [
  {
   "cell_type": "code",
   "execution_count": 1,
   "metadata": {},
   "outputs": [],
   "source": [
    "import matplotlib.pyplot as plt\n",
    "%matplotlib inline\n",
    "import matplotlib.image as mpimg\n",
    "import numpy as np\n",
    "import cv2\n",
    "import os\n",
    "import glob\n",
    "from PIL import Image, ImageOps \n"
   ]
  },
  {
   "cell_type": "code",
   "execution_count": null,
   "metadata": {},
   "outputs": [],
   "source": []
  },
  {
   "cell_type": "code",
   "execution_count": 2,
   "metadata": {},
   "outputs": [],
   "source": [
    "## Code to read a colored image and convert to grayscale\n",
    "\n",
    "X=[]\n",
    " \n",
    "folder= \"/Users/praanshu/Desktop/FaceRecognition_Data/ALL/\"\n",
    "\n",
    "for img_path in os.listdir(folder):\n",
    "    \n",
    "    if img_path.endswith('.TIF'):\n",
    "        img = Image.open(folder+img_path)\n",
    "        img_gr = ImageOps.grayscale(img)\n",
    "        image_flat= np.array(img_gr)\n",
    "        image_flat= image_flat.flatten(order ='F')  #converting into a vectorised image \n",
    "        image_flat = image_flat.tolist()\n",
    "        X.append(image_flat)   #Storing all the vectorized images into an array\n",
    "    \n",
    "    \n",
    "X= np.matrix(X).transpose()\n"
   ]
  },
  {
   "cell_type": "code",
   "execution_count": 3,
   "metadata": {},
   "outputs": [],
   "source": [
    "row,col = X.shape\n",
    "mean_vector=[]\n",
    "for i in range(0,row):\n",
    "    meanX = np.mean(X[i,:])\n",
    "    mean_vector.append(meanX)\n",
    "    \n",
    "mean_vector= np.matrix(mean_vector).transpose()  #Finding the mean face image from all the images"
   ]
  },
  {
   "cell_type": "code",
   "execution_count": 4,
   "metadata": {},
   "outputs": [
    {
     "data": {
      "text/plain": [
       "<matplotlib.image.AxesImage at 0x7f9bfe656668>"
      ]
     },
     "execution_count": 4,
     "metadata": {},
     "output_type": "execute_result"
    },
    {
     "data": {
      "image/png": "[encoded data removed]",
      "text/plain": [
       "<Figure size 432x288 with 1 Axes>"
      ]
     },
     "metadata": {
      "needs_background": "light"
     },
     "output_type": "display_data"
    }
   ],
   "source": [
    "## Displaying average image\n",
    "\n",
    "Avg_img= mean_vector.reshape(32,32)\n",
    "Avg_img_final= cv2.rotate(Avg_img, cv2.ROTATE_90_CLOCKWISE)\n",
    "plt.imshow(Avg_img_final)"
   ]
  },
  {
   "cell_type": "code",
   "execution_count": 5,
   "metadata": {},
   "outputs": [],
   "source": [
    "##Finding mean difference and creating covariance matrix in order to find eigenvalues later\n",
    "\n",
    "repeat_mean_vec= np.kron(np.ones((1,35)), mean_vector)\n",
    "A= X-repeat_mean_vec\n",
    "Cov_matrix = np.dot(A,A.T)\n",
    "Cov_matrix= np.array(Cov_matrix)"
   ]
  },
  {
   "cell_type": "code",
   "execution_count": null,
   "metadata": {},
   "outputs": [],
   "source": []
  },
  {
   "cell_type": "code",
   "execution_count": 6,
   "metadata": {},
   "outputs": [],
   "source": [
    "## Finding eigenvalues and sorting eig vectors in decreasing order of eig values\n",
    "eigenValues, eigenVectors = np.linalg.eig(Cov_matrix)\n",
    "\n",
    "idx = np.argsort(-eigenValues)  \n",
    "sorted_eigenValues = eigenValues[idx]\n",
    "eigenVectors = eigenVectors[:,idx]\n",
    "final_eig_vector =  eigenVectors[:,0:10]"
   ]
  },
  {
   "cell_type": "code",
   "execution_count": 7,
   "metadata": {},
   "outputs": [],
   "source": [
    "##Constructing database and finding eigenfaces for the training set\n",
    "\n",
    "DB_train = []\n",
    "length_db =0\n",
    "train_image_names=[]\n",
    "folder2= \"/Users/praanshu/Desktop/FaceRecognition_Data/FA/\"\n",
    "\n",
    "for img_path in os.listdir(folder2):\n",
    "    \n",
    "    if img_path.endswith('.TIF'):\n",
    "        img_db = Image.open(folder2+img_path)\n",
    "        train_image_names.append(img_path)\n",
    "        img_gr_db = ImageOps.grayscale(img_db)\n",
    "        length_db= length_db + 1\n",
    "        image_flat_db= np.array(img_gr_db).flatten(order ='F').tolist()\n",
    "        DB_train.append(image_flat_db)\n",
    "\n",
    "\n",
    "    \n",
    "DB_train= np.matrix(DB_train).transpose()\n",
    "y = (DB_train) - repeat_mean_vec[:,0:length_db]\n",
    "eigenfaces = (final_eig_vector.transpose()) * y\n"
   ]
  },
  {
   "cell_type": "code",
   "execution_count": null,
   "metadata": {},
   "outputs": [],
   "source": []
  },
  {
   "cell_type": "code",
   "execution_count": 8,
   "metadata": {},
   "outputs": [],
   "source": [
    "#Constructing database for test set, and finding eigenfaces for the test set\n",
    "\n",
    "FB_test = []\n",
    "length_test =0\n",
    "test_image_names=[]\n",
    " \n",
    "folder3= \"/Users/praanshu/Desktop/FaceRecognition_Data/FB/\"\n",
    "for img_path in os.listdir(folder3):\n",
    "    if img_path.endswith('.TIF'):\n",
    "        length_test= length_test + 1\n",
    "        test_image_names.append(img_path)\n",
    "        img_test = Image.open(folder3+img_path)\n",
    "        img_gr_test = ImageOps.grayscale(img_test)\n",
    "        image_flat_test= np.array(img_gr_test).flatten(order ='F').tolist()\n",
    "        FB_test.append(image_flat_test)\n",
    "        \n",
    "    \n",
    "    \n",
    "FB_test= np.array(FB_test).transpose()\n",
    "\n",
    "yz = (FB_test) - repeat_mean_vec[:,0:length_test]\n",
    "fb_yz = (final_eig_vector.transpose()) * yz\n"
   ]
  },
  {
   "cell_type": "code",
   "execution_count": 9,
   "metadata": {},
   "outputs": [],
   "source": [
    "## Classifying images using minimum Euclidean distance\n",
    "\n",
    "min_dist_idx = []\n",
    "\n",
    "for i in range(length_test):\n",
    "    euclidean_dist_array = []\n",
    "    \n",
    "    \n",
    "    ## For each image, calculate Euclidean dist with 12 train images\n",
    "    for j in range(length_db):\n",
    "        \n",
    "        euclidean_dist = np.sqrt(np.sum(np.power((fb_yz[:, i] - eigenfaces[:, j]),2)))\n",
    "        \n",
    "        euclidean_dist_array.append(euclidean_dist)\n",
    "        \n",
    "        \n",
    "    min_euclidean_dist = min(euclidean_dist_array)\n",
    "        \n",
    "    ##Get index of the min-distance image\n",
    "    if (euclidean_dist_array == min_euclidean_dist).any():\n",
    "        min_dist_idx.append(euclidean_dist_array.index(min_euclidean_dist)) \n",
    "        \n",
    "min_dist_idx= np.array(min_dist_idx).transpose()\n"
   ]
  },
  {
   "cell_type": "code",
   "execution_count": 11,
   "metadata": {},
   "outputs": [
    {
     "name": "stdout",
     "output_type": "stream",
     "text": [
      "73.91304347826086\n"
     ]
    }
   ],
   "source": [
    "## Checking accuracy\n",
    "\n",
    "flag = 0;\n",
    "\n",
    "\n",
    "for k in range(23):\n",
    "    if (test_image_names[k][0:11] == train_image_names[min_dist_idx[k]][0:11]):\n",
    "        flag = flag+1\n",
    "\n",
    "        \n",
    "Accuracy = (flag/length_test) * 100;\n",
    "print(Accuracy)     \n"
   ]
  },
  {
   "cell_type": "code",
   "execution_count": null,
   "metadata": {},
   "outputs": [],
   "source": []
  },
  {
   "cell_type": "code",
   "execution_count": null,
   "metadata": {},
   "outputs": [],
   "source": []
  },
  {
   "cell_type": "code",
   "execution_count": null,
   "metadata": {},
   "outputs": [],
   "source": []
  }
 ],
 "metadata": {
  "kernelspec": {
   "display_name": "Python 3",
   "language": "python",
   "name": "python3"
  },
  "language_info": {
   "codemirror_mode": {
    "name": "ipython",
    "version": 3
   },
   "file_extension": ".py",
   "mimetype": "text/x-python",
   "name": "python",
   "nbconvert_exporter": "python",
   "pygments_lexer": "ipython3",
   "version": "3.7.3"
  }
 },
 "nbformat": 4,
 "nbformat_minor": 2
}
