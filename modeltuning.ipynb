{
 "cells": [
  {
   "cell_type": "markdown",
   "metadata": {},
   "source": [
    "#### For this project I have use two models. \n",
    "1. A model to predict Wine Quality score (a regression model)\n",
    "2. A model to predict High Quality wines (those wines with quality >=7) vs Low quality (wines with quality < 7) (a classification model)\n",
    "\n",
    "You can learn more about this dataset [here](https://archive.ics.uci.edu/ml/datasets/Wine+Quality)"
   ]
  },
  {
   "cell_type": "markdown",
   "metadata": {},
   "source": [
    "To do this, I have kept the following criteria in mind:\n",
    "    1. Clarity of my code\n",
    "    2. Clarity of my approach\n",
    "    3. Model tuning and model selection\n",
    "    4. Write up of my findings and data insights, i.e. clear interpretations.\n"
   ]
  },
  {
   "cell_type": "markdown",
   "metadata": {},
   "source": []
  },
  {
   "cell_type": "code",
   "execution_count": 1,
   "metadata": {},
   "outputs": [],
   "source": [
    "import pandas as pd\n",
    "import numpy as np\n",
    "import matplotlib.pyplot as plt\n",
    "%matplotlib inline\n",
    "from sklearn import linear_model\n",
    "from sklearn.linear_model import LinearRegression\n",
    "import random\n",
    "from sklearn import feature_selection\n",
    "import statsmodels.formula.api as smf\n",
    "from sklearn import metrics\n",
    "from sklearn.model_selection import cross_val_score\n",
    "from sklearn.model_selection import train_test_split\n",
    "from sklearn import preprocessing\n",
    "from sklearn.linear_model import LogisticRegression\n",
    "from sklearn.model_selection import cross_val_score\n",
    "from sklearn.metrics import confusion_matrix"
   ]
  },
  {
   "cell_type": "code",
   "execution_count": 2,
   "metadata": {
    "scrolled": true
   },
   "outputs": [
    {
     "data": {
      "text/html": [
       "<div>\n",
       "<style scoped>\n",
       "    .dataframe tbody tr th:only-of-type {\n",
       "        vertical-align: middle;\n",
       "    }\n",
       "\n",
       "    .dataframe tbody tr th {\n",
       "        vertical-align: top;\n",
       "    }\n",
       "\n",
       "    .dataframe thead th {\n",
       "        text-align: right;\n",
       "    }\n",
       "</style>\n",
       "<table border=\"1\" class=\"dataframe\">\n",
       "  <thead>\n",
       "    <tr style=\"text-align: right;\">\n",
       "      <th></th>\n",
       "      <th>fixed_acidity</th>\n",
       "      <th>volatile_acidity</th>\n",
       "      <th>citric_acid</th>\n",
       "      <th>residual_sugar</th>\n",
       "      <th>chlorides</th>\n",
       "      <th>free_sulfur_dioxide</th>\n",
       "      <th>total_sulfur_dioxide</th>\n",
       "      <th>density</th>\n",
       "      <th>pH</th>\n",
       "      <th>sulphates</th>\n",
       "      <th>alcohol</th>\n",
       "      <th>quality</th>\n",
       "    </tr>\n",
       "  </thead>\n",
       "  <tbody>\n",
       "    <tr>\n",
       "      <th>0</th>\n",
       "      <td>6.3</td>\n",
       "      <td>0.30</td>\n",
       "      <td>0.34</td>\n",
       "      <td>1.6</td>\n",
       "      <td>0.049</td>\n",
       "      <td>14.0</td>\n",
       "      <td>132.0</td>\n",
       "      <td>0.9940</td>\n",
       "      <td>3.30</td>\n",
       "      <td>0.49</td>\n",
       "      <td>9.5</td>\n",
       "      <td>6</td>\n",
       "    </tr>\n",
       "    <tr>\n",
       "      <th>1</th>\n",
       "      <td>8.1</td>\n",
       "      <td>0.28</td>\n",
       "      <td>0.40</td>\n",
       "      <td>6.9</td>\n",
       "      <td>0.050</td>\n",
       "      <td>30.0</td>\n",
       "      <td>97.0</td>\n",
       "      <td>0.9951</td>\n",
       "      <td>3.26</td>\n",
       "      <td>0.44</td>\n",
       "      <td>10.1</td>\n",
       "      <td>6</td>\n",
       "    </tr>\n",
       "    <tr>\n",
       "      <th>2</th>\n",
       "      <td>7.2</td>\n",
       "      <td>0.23</td>\n",
       "      <td>0.32</td>\n",
       "      <td>8.5</td>\n",
       "      <td>0.058</td>\n",
       "      <td>47.0</td>\n",
       "      <td>186.0</td>\n",
       "      <td>0.9956</td>\n",
       "      <td>3.19</td>\n",
       "      <td>0.40</td>\n",
       "      <td>9.9</td>\n",
       "      <td>6</td>\n",
       "    </tr>\n",
       "    <tr>\n",
       "      <th>3</th>\n",
       "      <td>7.2</td>\n",
       "      <td>0.23</td>\n",
       "      <td>0.32</td>\n",
       "      <td>8.5</td>\n",
       "      <td>0.058</td>\n",
       "      <td>47.0</td>\n",
       "      <td>186.0</td>\n",
       "      <td>0.9956</td>\n",
       "      <td>3.19</td>\n",
       "      <td>0.40</td>\n",
       "      <td>9.9</td>\n",
       "      <td>6</td>\n",
       "    </tr>\n",
       "    <tr>\n",
       "      <th>4</th>\n",
       "      <td>8.1</td>\n",
       "      <td>0.28</td>\n",
       "      <td>0.40</td>\n",
       "      <td>6.9</td>\n",
       "      <td>0.050</td>\n",
       "      <td>30.0</td>\n",
       "      <td>97.0</td>\n",
       "      <td>0.9951</td>\n",
       "      <td>3.26</td>\n",
       "      <td>0.44</td>\n",
       "      <td>10.1</td>\n",
       "      <td>6</td>\n",
       "    </tr>\n",
       "  </tbody>\n",
       "</table>\n",
       "</div>"
      ],
      "text/plain": [
       "   fixed_acidity  volatile_acidity  citric_acid  residual_sugar  chlorides  \\\n",
       "0            6.3              0.30         0.34             1.6      0.049   \n",
       "1            8.1              0.28         0.40             6.9      0.050   \n",
       "2            7.2              0.23         0.32             8.5      0.058   \n",
       "3            7.2              0.23         0.32             8.5      0.058   \n",
       "4            8.1              0.28         0.40             6.9      0.050   \n",
       "\n",
       "   free_sulfur_dioxide  total_sulfur_dioxide  density    pH  sulphates  \\\n",
       "0                 14.0                 132.0   0.9940  3.30       0.49   \n",
       "1                 30.0                  97.0   0.9951  3.26       0.44   \n",
       "2                 47.0                 186.0   0.9956  3.19       0.40   \n",
       "3                 47.0                 186.0   0.9956  3.19       0.40   \n",
       "4                 30.0                  97.0   0.9951  3.26       0.44   \n",
       "\n",
       "   alcohol  quality  \n",
       "0      9.5        6  \n",
       "1     10.1        6  \n",
       "2      9.9        6  \n",
       "3      9.9        6  \n",
       "4     10.1        6  "
      ]
     },
     "execution_count": 2,
     "metadata": {},
     "output_type": "execute_result"
    }
   ],
   "source": [
    "White_Wine = pd.read_csv(\"/Users/praanshu/Desktop/SFSU/Data Mining/PPTs,data/winequality-white.csv\", sep = ';', header = 1,names = ['fixed_acidity','volatile_acidity',\n",
    "                                                       'citric_acid','residual_sugar','chlorides','free_sulfur_dioxide',\n",
    "                                                       'total_sulfur_dioxide','density','pH',\n",
    "                                                       'sulphates','alcohol','quality'])\n",
    "White_Wine.head()"
   ]
  },
  {
   "cell_type": "code",
   "execution_count": null,
   "metadata": {},
   "outputs": [],
   "source": []
  },
  {
   "cell_type": "markdown",
   "metadata": {},
   "source": [
    "# Section 1 - Regression"
   ]
  },
  {
   "cell_type": "code",
   "execution_count": 3,
   "metadata": {},
   "outputs": [
    {
     "data": {
      "text/plain": [
       "array([3, 4, 5, 6, 7, 8, 9])"
      ]
     },
     "execution_count": 3,
     "metadata": {},
     "output_type": "execute_result"
    }
   ],
   "source": [
    "np.unique(White_Wine['quality'])"
   ]
  },
  {
   "cell_type": "code",
   "execution_count": 4,
   "metadata": {},
   "outputs": [
    {
     "data": {
      "text/html": [
       "<div>\n",
       "<style scoped>\n",
       "    .dataframe tbody tr th:only-of-type {\n",
       "        vertical-align: middle;\n",
       "    }\n",
       "\n",
       "    .dataframe tbody tr th {\n",
       "        vertical-align: top;\n",
       "    }\n",
       "\n",
       "    .dataframe thead th {\n",
       "        text-align: right;\n",
       "    }\n",
       "</style>\n",
       "<table border=\"1\" class=\"dataframe\">\n",
       "  <thead>\n",
       "    <tr style=\"text-align: right;\">\n",
       "      <th></th>\n",
       "      <th>fixed_acidity</th>\n",
       "      <th>volatile_acidity</th>\n",
       "      <th>citric_acid</th>\n",
       "      <th>residual_sugar</th>\n",
       "      <th>chlorides</th>\n",
       "      <th>free_sulfur_dioxide</th>\n",
       "      <th>total_sulfur_dioxide</th>\n",
       "      <th>density</th>\n",
       "      <th>pH</th>\n",
       "      <th>sulphates</th>\n",
       "      <th>alcohol</th>\n",
       "      <th>quality</th>\n",
       "    </tr>\n",
       "  </thead>\n",
       "  <tbody>\n",
       "    <tr>\n",
       "      <th>fixed_acidity</th>\n",
       "      <td>1.000000</td>\n",
       "      <td>-0.022695</td>\n",
       "      <td>0.289175</td>\n",
       "      <td>0.088994</td>\n",
       "      <td>0.023087</td>\n",
       "      <td>-0.049418</td>\n",
       "      <td>0.091049</td>\n",
       "      <td>0.265397</td>\n",
       "      <td>-0.425883</td>\n",
       "      <td>-0.017131</td>\n",
       "      <td>-0.120856</td>\n",
       "      <td>-0.113668</td>\n",
       "    </tr>\n",
       "    <tr>\n",
       "      <th>volatile_acidity</th>\n",
       "      <td>-0.022695</td>\n",
       "      <td>1.000000</td>\n",
       "      <td>-0.149469</td>\n",
       "      <td>0.064386</td>\n",
       "      <td>0.070511</td>\n",
       "      <td>-0.097006</td>\n",
       "      <td>0.089278</td>\n",
       "      <td>0.027168</td>\n",
       "      <td>-0.031941</td>\n",
       "      <td>-0.035734</td>\n",
       "      <td>0.067708</td>\n",
       "      <td>-0.194721</td>\n",
       "    </tr>\n",
       "    <tr>\n",
       "      <th>citric_acid</th>\n",
       "      <td>0.289175</td>\n",
       "      <td>-0.149469</td>\n",
       "      <td>1.000000</td>\n",
       "      <td>0.094166</td>\n",
       "      <td>0.114367</td>\n",
       "      <td>0.094056</td>\n",
       "      <td>0.121106</td>\n",
       "      <td>0.149485</td>\n",
       "      <td>-0.163721</td>\n",
       "      <td>0.062347</td>\n",
       "      <td>-0.075683</td>\n",
       "      <td>-0.009215</td>\n",
       "    </tr>\n",
       "    <tr>\n",
       "      <th>residual_sugar</th>\n",
       "      <td>0.088994</td>\n",
       "      <td>0.064386</td>\n",
       "      <td>0.094166</td>\n",
       "      <td>1.000000</td>\n",
       "      <td>0.088777</td>\n",
       "      <td>0.299023</td>\n",
       "      <td>0.401359</td>\n",
       "      <td>0.838770</td>\n",
       "      <td>-0.193603</td>\n",
       "      <td>-0.026485</td>\n",
       "      <td>-0.450284</td>\n",
       "      <td>-0.097736</td>\n",
       "    </tr>\n",
       "    <tr>\n",
       "      <th>chlorides</th>\n",
       "      <td>0.023087</td>\n",
       "      <td>0.070511</td>\n",
       "      <td>0.114367</td>\n",
       "      <td>0.088777</td>\n",
       "      <td>1.000000</td>\n",
       "      <td>0.101400</td>\n",
       "      <td>0.198927</td>\n",
       "      <td>0.257371</td>\n",
       "      <td>-0.090463</td>\n",
       "      <td>0.016761</td>\n",
       "      <td>-0.360270</td>\n",
       "      <td>-0.209934</td>\n",
       "    </tr>\n",
       "    <tr>\n",
       "      <th>free_sulfur_dioxide</th>\n",
       "      <td>-0.049418</td>\n",
       "      <td>-0.097006</td>\n",
       "      <td>0.094056</td>\n",
       "      <td>0.299023</td>\n",
       "      <td>0.101400</td>\n",
       "      <td>1.000000</td>\n",
       "      <td>0.615470</td>\n",
       "      <td>0.294112</td>\n",
       "      <td>-0.000473</td>\n",
       "      <td>0.059261</td>\n",
       "      <td>-0.250000</td>\n",
       "      <td>0.008142</td>\n",
       "    </tr>\n",
       "    <tr>\n",
       "      <th>total_sulfur_dioxide</th>\n",
       "      <td>0.091049</td>\n",
       "      <td>0.089278</td>\n",
       "      <td>0.121106</td>\n",
       "      <td>0.401359</td>\n",
       "      <td>0.198927</td>\n",
       "      <td>0.615470</td>\n",
       "      <td>1.000000</td>\n",
       "      <td>0.529851</td>\n",
       "      <td>0.002511</td>\n",
       "      <td>0.134625</td>\n",
       "      <td>-0.448795</td>\n",
       "      <td>-0.174768</td>\n",
       "    </tr>\n",
       "    <tr>\n",
       "      <th>density</th>\n",
       "      <td>0.265397</td>\n",
       "      <td>0.027168</td>\n",
       "      <td>0.149485</td>\n",
       "      <td>0.838770</td>\n",
       "      <td>0.257371</td>\n",
       "      <td>0.294112</td>\n",
       "      <td>0.529851</td>\n",
       "      <td>1.000000</td>\n",
       "      <td>-0.093064</td>\n",
       "      <td>0.074702</td>\n",
       "      <td>-0.780062</td>\n",
       "      <td>-0.307360</td>\n",
       "    </tr>\n",
       "    <tr>\n",
       "      <th>pH</th>\n",
       "      <td>-0.425883</td>\n",
       "      <td>-0.031941</td>\n",
       "      <td>-0.163721</td>\n",
       "      <td>-0.193603</td>\n",
       "      <td>-0.090463</td>\n",
       "      <td>-0.000473</td>\n",
       "      <td>0.002511</td>\n",
       "      <td>-0.093064</td>\n",
       "      <td>1.000000</td>\n",
       "      <td>0.155889</td>\n",
       "      <td>0.121121</td>\n",
       "      <td>0.099478</td>\n",
       "    </tr>\n",
       "    <tr>\n",
       "      <th>sulphates</th>\n",
       "      <td>-0.017131</td>\n",
       "      <td>-0.035734</td>\n",
       "      <td>0.062347</td>\n",
       "      <td>-0.026485</td>\n",
       "      <td>0.016761</td>\n",
       "      <td>0.059261</td>\n",
       "      <td>0.134625</td>\n",
       "      <td>0.074702</td>\n",
       "      <td>0.155889</td>\n",
       "      <td>1.000000</td>\n",
       "      <td>-0.017536</td>\n",
       "      <td>0.053688</td>\n",
       "    </tr>\n",
       "    <tr>\n",
       "      <th>alcohol</th>\n",
       "      <td>-0.120856</td>\n",
       "      <td>0.067708</td>\n",
       "      <td>-0.075683</td>\n",
       "      <td>-0.450284</td>\n",
       "      <td>-0.360270</td>\n",
       "      <td>-0.250000</td>\n",
       "      <td>-0.448795</td>\n",
       "      <td>-0.780062</td>\n",
       "      <td>0.121121</td>\n",
       "      <td>-0.017536</td>\n",
       "      <td>1.000000</td>\n",
       "      <td>0.435701</td>\n",
       "    </tr>\n",
       "    <tr>\n",
       "      <th>quality</th>\n",
       "      <td>-0.113668</td>\n",
       "      <td>-0.194721</td>\n",
       "      <td>-0.009215</td>\n",
       "      <td>-0.097736</td>\n",
       "      <td>-0.209934</td>\n",
       "      <td>0.008142</td>\n",
       "      <td>-0.174768</td>\n",
       "      <td>-0.307360</td>\n",
       "      <td>0.099478</td>\n",
       "      <td>0.053688</td>\n",
       "      <td>0.435701</td>\n",
       "      <td>1.000000</td>\n",
       "    </tr>\n",
       "  </tbody>\n",
       "</table>\n",
       "</div>"
      ],
      "text/plain": [
       "                      fixed_acidity  volatile_acidity  citric_acid  \\\n",
       "fixed_acidity              1.000000         -0.022695     0.289175   \n",
       "volatile_acidity          -0.022695          1.000000    -0.149469   \n",
       "citric_acid                0.289175         -0.149469     1.000000   \n",
       "residual_sugar             0.088994          0.064386     0.094166   \n",
       "chlorides                  0.023087          0.070511     0.114367   \n",
       "free_sulfur_dioxide       -0.049418         -0.097006     0.094056   \n",
       "total_sulfur_dioxide       0.091049          0.089278     0.121106   \n",
       "density                    0.265397          0.027168     0.149485   \n",
       "pH                        -0.425883         -0.031941    -0.163721   \n",
       "sulphates                 -0.017131         -0.035734     0.062347   \n",
       "alcohol                   -0.120856          0.067708    -0.075683   \n",
       "quality                   -0.113668         -0.194721    -0.009215   \n",
       "\n",
       "                      residual_sugar  chlorides  free_sulfur_dioxide  \\\n",
       "fixed_acidity               0.088994   0.023087            -0.049418   \n",
       "volatile_acidity            0.064386   0.070511            -0.097006   \n",
       "citric_acid                 0.094166   0.114367             0.094056   \n",
       "residual_sugar              1.000000   0.088777             0.299023   \n",
       "chlorides                   0.088777   1.000000             0.101400   \n",
       "free_sulfur_dioxide         0.299023   0.101400             1.000000   \n",
       "total_sulfur_dioxide        0.401359   0.198927             0.615470   \n",
       "density                     0.838770   0.257371             0.294112   \n",
       "pH                         -0.193603  -0.090463            -0.000473   \n",
       "sulphates                  -0.026485   0.016761             0.059261   \n",
       "alcohol                    -0.450284  -0.360270            -0.250000   \n",
       "quality                    -0.097736  -0.209934             0.008142   \n",
       "\n",
       "                      total_sulfur_dioxide   density        pH  sulphates  \\\n",
       "fixed_acidity                     0.091049  0.265397 -0.425883  -0.017131   \n",
       "volatile_acidity                  0.089278  0.027168 -0.031941  -0.035734   \n",
       "citric_acid                       0.121106  0.149485 -0.163721   0.062347   \n",
       "residual_sugar                    0.401359  0.838770 -0.193603  -0.026485   \n",
       "chlorides                         0.198927  0.257371 -0.090463   0.016761   \n",
       "free_sulfur_dioxide               0.615470  0.294112 -0.000473   0.059261   \n",
       "total_sulfur_dioxide              1.000000  0.529851  0.002511   0.134625   \n",
       "density                           0.529851  1.000000 -0.093064   0.074702   \n",
       "pH                                0.002511 -0.093064  1.000000   0.155889   \n",
       "sulphates                         0.134625  0.074702  0.155889   1.000000   \n",
       "alcohol                          -0.448795 -0.780062  0.121121  -0.017536   \n",
       "quality                          -0.174768 -0.307360  0.099478   0.053688   \n",
       "\n",
       "                       alcohol   quality  \n",
       "fixed_acidity        -0.120856 -0.113668  \n",
       "volatile_acidity      0.067708 -0.194721  \n",
       "citric_acid          -0.075683 -0.009215  \n",
       "residual_sugar       -0.450284 -0.097736  \n",
       "chlorides            -0.360270 -0.209934  \n",
       "free_sulfur_dioxide  -0.250000  0.008142  \n",
       "total_sulfur_dioxide -0.448795 -0.174768  \n",
       "density              -0.780062 -0.307360  \n",
       "pH                    0.121121  0.099478  \n",
       "sulphates            -0.017536  0.053688  \n",
       "alcohol               1.000000  0.435701  \n",
       "quality               0.435701  1.000000  "
      ]
     },
     "execution_count": 4,
     "metadata": {},
     "output_type": "execute_result"
    }
   ],
   "source": [
    "White_Wine.corr()"
   ]
  },
  {
   "cell_type": "markdown",
   "metadata": {},
   "source": [
    "From the correlation matrix, alcohol, density and chlorides look somewhat correlated with the response variable. These three variables are also highly correlated with each other and with other variables, esp alcohol and density,and it would be advisable to not include them simultaneously in our model."
   ]
  },
  {
   "cell_type": "code",
   "execution_count": null,
   "metadata": {},
   "outputs": [],
   "source": []
  },
  {
   "cell_type": "code",
   "execution_count": 5,
   "metadata": {},
   "outputs": [
    {
     "name": "stderr",
     "output_type": "stream",
     "text": [
      "/Users/praanshu/anaconda3/lib/python3.7/site-packages/ipykernel_launcher.py:1: DataConversionWarning: Data with input dtype int64, float64 were all converted to float64 by the scale function.\n",
      "  \"\"\"Entry point for launching an IPython kernel.\n"
     ]
    }
   ],
   "source": [
    "White_WineNew = preprocessing.scale(White_Wine) \n",
    "White_WineNew = pd.DataFrame(White_WineNew)   \n",
    "White_WineNew.columns = White_Wine.columns.values\n",
    "White_Wine = White_WineNew"
   ]
  },
  {
   "cell_type": "code",
   "execution_count": 6,
   "metadata": {},
   "outputs": [],
   "source": [
    "#Using cross val and Lasso on our data to find which variables to eliminate"
   ]
  },
  {
   "cell_type": "code",
   "execution_count": 7,
   "metadata": {},
   "outputs": [
    {
     "name": "stdout",
     "output_type": "stream",
     "text": [
      "['fixed_acidity' 'volatile_acidity' 'citric_acid' 'residual_sugar'\n",
      " 'chlorides' 'free_sulfur_dioxide' 'total_sulfur_dioxide' 'density' 'pH'\n",
      " 'sulphates' 'alcohol' 'quality']\n"
     ]
    }
   ],
   "source": [
    "listOfAllVariables = White_Wine.columns.values\n",
    "X = White_Wine[listOfAllVariables]\n",
    "del X['quality']\n",
    "y = White_Wine['quality']\n",
    "print(listOfAllVariables)"
   ]
  },
  {
   "cell_type": "code",
   "execution_count": 8,
   "metadata": {},
   "outputs": [
    {
     "name": "stdout",
     "output_type": "stream",
     "text": [
      "[1.e-10 1.e-09 1.e-08 1.e-07 1.e-06 1.e-05 1.e-04 1.e-03 1.e-02 1.e-01\n",
      " 1.e+00 1.e+01 1.e+02 1.e+03 1.e+04 1.e+05 1.e+06 1.e+07 1.e+08 1.e+09\n",
      " 1.e+10] [0.7341653961215748, 0.7341653955345424, 0.7341653896653222, 0.7341653309724594, 0.7341647442492715, 0.7341588868626137, 0.7341012644078062, 0.7336581228256465, 0.7348521027901083, 0.7845354367513522, 1.0040742759734302, 1.0040742759734302, 1.0040742759734302, 1.0040742759734302, 1.0040742759734302, 1.0040742759734302, 1.0040742759734302, 1.0040742759734302, 1.0040742759734302, 1.0040742759734302, 1.0040742759734302]\n"
     ]
    },
    {
     "data": {
      "image/png": "[encoded data removed]",
      "text/plain": [
       "<Figure size 432x288 with 1 Axes>"
      ]
     },
     "metadata": {
      "needs_background": "light"
     },
     "output_type": "display_data"
    }
   ],
   "source": [
    "MSE_Lasso_CV=[]\n",
    "\n",
    "CV_score=[]\n",
    "\n",
    "alphas = np.logspace(-10,10,21)\n",
    "alphas_index = np.linspace(-10,10,21)\n",
    "\n",
    "for a in alphas:\n",
    "    lm= linear_model.Lasso(alpha= a)\n",
    "    CV_score.append(-cross_val_score(lm,X,y, cv=10, scoring= 'neg_mean_squared_error').mean())\n",
    "    \n",
    "\n",
    "print(alphas, CV_score)\n",
    "\n",
    "\n",
    "plt.plot(alphas_index, CV_score)\n",
    "plt.xlabel (\"Log(Alpha)\")\n",
    "plt.ylabel(\"CV_error\")\n",
    "plt.title(\"lasso reg\")\n",
    "plt.show()"
   ]
  },
  {
   "cell_type": "code",
   "execution_count": 9,
   "metadata": {},
   "outputs": [
    {
     "name": "stdout",
     "output_type": "stream",
     "text": [
      "[-0.         -0.21145815 -0.          0.25813688 -0.01282142  0.0611094\n",
      " -0.00219867 -0.21346591  0.05561081  0.05403776  0.3936202 ] Index(['fixed_acidity', 'volatile_acidity', 'citric_acid', 'residual_sugar',\n",
      "       'chlorides', 'free_sulfur_dioxide', 'total_sulfur_dioxide', 'density',\n",
      "       'pH', 'sulphates', 'alcohol'],\n",
      "      dtype='object')\n"
     ]
    }
   ],
   "source": [
    "##MSE is flat up to log_alpha = -2.5 Log_alpha results in alpha = 0.01 (due to its logarithmic scale) \n",
    "\n",
    "lm = linear_model.Lasso(alpha=0.01)\n",
    "lm.fit(X, y)\n",
    "print(lm.coef_,X.columns)"
   ]
  },
  {
   "cell_type": "markdown",
   "metadata": {},
   "source": [
    "Based on above output from Lasso, we decide to exclude:\n",
    "1) fixed_acidity\n",
    "2) citric_acid"
   ]
  },
  {
   "cell_type": "code",
   "execution_count": 10,
   "metadata": {},
   "outputs": [],
   "source": [
    "X1 = White_Wine[['alcohol']]\n",
    "X2 = White_Wine[['alcohol','volatile_acidity']]\n",
    "X3 = White_Wine[['pH','sulphates']]\n",
    "X4 = White_Wine[['density','pH','sulphates']]\n",
    "X5 = White_Wine[['alcohol','volatile_acidity','pH','sulphates']]\n",
    "X6 = White_Wine[['alcohol','volatile_acidity','pH','sulphates','free_sulfur_dioxide']]\n",
    "X7 = White_Wine[['sulphates','pH','volatile_acidity']]\n",
    "X8 = White_Wine[['sulphates','pH','volatile_acidity','residual_sugar']]#'alcohol' is highly correlated with density so cannot consider them simoltanously\n",
    "X9 = White_Wine[['chlorides','volatile_acidity','residual_sugar','free_sulfur_dioxide']]\n",
    "X10 = White_Wine[['chlorides','density','volatile_acidity','residual_sugar']]\n",
    "X11 = White_Wine[['chlorides','density','volatile_acidity','total_sulfur_dioxide']] #total_sulphur_dioxide is highly correlated with residual sugar\n",
    "\n",
    "\n",
    "X12 = White_Wine[['alcohol','density','chlorides']]  #model without that much interpretability ;  \n",
    "X13 = White_Wine[['alcohol','density','chlorides','sulphates']]  #model without that much interpretability\n",
    "X14 = White_Wine[['alcohol','density','chlorides','total_sulfur_dioxide']]  #model without that much interpretability\n",
    "X15 = White_Wine[['volatile_acidity','residual_sugar','free_sulfur_dioxide',\n",
    "                  'density','pH','sulphates','alcohol']]\n",
    "X16 = White_Wine[['volatile_acidity','residual_sugar','chlorides','free_sulfur_dioxide','total_sulfur_dioxide',\n",
    "                  'density','pH','sulphates','alcohol']]  #model without that much interpretability\n",
    "y = White_Wine['quality']\n",
    "lm = LinearRegression()\n"
   ]
  },
  {
   "cell_type": "code",
   "execution_count": 11,
   "metadata": {},
   "outputs": [
    {
     "name": "stdout",
     "output_type": "stream",
     "text": [
      "[0.8135214691428752, 0.7632979852025213, 0.9979977095564683, 0.9030522386919186, 0.7626608950485589, 0.7546123551783377, 0.9615239008718236, 0.9577099013040916, 0.9251650811142916, 0.7813769503278418, 0.8599765010755863, 0.8095964574066414, 0.8082458344905479, 0.8102747905189354, 0.7315793954621818, 0.7319219101478512]\n"
     ]
    },
    {
     "data": {
      "image/png": "[encoded data removed]",
      "text/plain": [
       "<Figure size 432x288 with 1 Axes>"
      ]
     },
     "metadata": {
      "needs_background": "light"
     },
     "output_type": "display_data"
    }
   ],
   "source": [
    "# Using 10 fold cross-validation to decide on the model of your interest\n",
    "\n",
    "CV_score= []\n",
    "for i in [X1,X2,X3,X4,X5,X6,X7,X8,X9,X10,X11,X12,X13,X14,X15,X16]:\n",
    "    CV_score.append(-cross_val_score(lm,i,y,cv=10,scoring=\"neg_mean_squared_error\").mean())\n",
    "\n",
    "print(CV_score)    \n",
    "\n",
    "idx= np.array(range(16))+1\n",
    "plt.plot(idx,CV_score)\n",
    "plt.xlabel(\"Model number\")\n",
    "plt.ylabel(\"CV_score\")\n",
    "plt.show()\n"
   ]
  },
  {
   "cell_type": "code",
   "execution_count": 12,
   "metadata": {},
   "outputs": [],
   "source": [
    "#Since our goal is prediction, we will most likely use models with least CV MSE and significant p values. "
   ]
  },
  {
   "cell_type": "code",
   "execution_count": 13,
   "metadata": {},
   "outputs": [
    {
     "name": "stdout",
     "output_type": "stream",
     "text": [
      "Intercept     1.000000e+00\n",
      "i[0]         2.215086e-253\n",
      "i[1]          1.785196e-70\n",
      "dtype: float64\n",
      "Intercept     1.000000e+00\n",
      "i[0]         1.056213e-247\n",
      "i[1]          6.803372e-69\n",
      "i[2]          1.625888e-02\n",
      "i[3]          1.071761e-04\n",
      "dtype: float64\n",
      "Intercept     1.000000e+00\n",
      "i[0]         1.920545e-261\n",
      "i[1]          1.161106e-64\n",
      "i[2]          2.373146e-02\n",
      "i[3]          4.824476e-04\n",
      "i[4]          1.103005e-15\n",
      "dtype: float64\n",
      "Intercept     1.000000e+00\n",
      "i[0]          1.238939e-04\n",
      "i[1]         8.322006e-186\n",
      "i[2]          5.119959e-58\n",
      "i[3]         4.112534e-110\n",
      "dtype: float64\n",
      "Intercept    1.000000e+00\n",
      "i[0]         3.181993e-69\n",
      "i[1]         1.188039e-34\n",
      "i[2]         1.265611e-06\n",
      "i[3]         6.778788e-18\n",
      "i[4]         1.548905e-09\n",
      "i[5]         7.390426e-09\n",
      "i[6]         3.308110e-38\n",
      "dtype: float64\n",
      "Intercept    1.000000e+00\n",
      "i[0]         6.010399e-64\n",
      "i[1]         5.692701e-32\n",
      "i[2]         3.425799e-01\n",
      "i[3]         9.104337e-06\n",
      "i[4]         3.931709e-01\n",
      "i[5]         1.149296e-15\n",
      "i[6]         3.065515e-09\n",
      "i[7]         5.663219e-09\n",
      "i[8]         4.592487e-37\n",
      "dtype: float64\n"
     ]
    }
   ],
   "source": [
    "for i in [X2,X5,X6,X10,X15,X16]:\n",
    "    lm1 = smf.ols(formula='y ~ i', data=White_Wine).fit()\n",
    "    print(lm1.pvalues)"
   ]
  },
  {
   "cell_type": "markdown",
   "metadata": {},
   "source": [
    "### We will choose model 15 as it has all significant values and MSE is low, since our goal is prediction and interpretibility does not matter."
   ]
  },
  {
   "cell_type": "code",
   "execution_count": 14,
   "metadata": {},
   "outputs": [],
   "source": [
    "X= White_Wine[['volatile_acidity','residual_sugar','free_sulfur_dioxide',\n",
    "                  'density','pH','sulphates','alcohol']]\n",
    "y = White_Wine['quality']\n"
   ]
  },
  {
   "cell_type": "code",
   "execution_count": 15,
   "metadata": {
    "scrolled": true
   },
   "outputs": [
    {
     "data": {
      "text/plain": [
       "LinearRegression(copy_X=True, fit_intercept=True, n_jobs=None,\n",
       "         normalize=False)"
      ]
     },
     "execution_count": 15,
     "metadata": {},
     "output_type": "execute_result"
    }
   ],
   "source": [
    "linreg = LinearRegression()\n",
    "linreg.fit(X,y)"
   ]
  },
  {
   "cell_type": "code",
   "execution_count": 16,
   "metadata": {
    "scrolled": true
   },
   "outputs": [
    {
     "name": "stdout",
     "output_type": "stream",
     "text": [
      "[-0.22071662  0.3794892   0.06306946 -0.37213619  0.07879781  0.07357027\n",
      "  0.33874746]\n"
     ]
    }
   ],
   "source": [
    "print(linreg.coef_)"
   ]
  },
  {
   "cell_type": "markdown",
   "metadata": {},
   "source": [
    "### Interpretibility\n",
    "\n",
    "This model suggests that \n",
    "1) Keeping everything constant, a unit increase in volatile_acidity causes on average, the wine quality to reduce by 0.22 units\n",
    "2) Keeping everything constant, a unit increase in residual sugar causes on average, the wine quality to increase by 0.379 units\n",
    "3) Keeping everything fixed, a unit increase in free_sulphur_dioxide causes on avergae, the wine quality to increase by 0.06 units\n",
    "4) Keeping everything fixed, a unit increase in density causes on average, the wine quality to decrease by 0.37 units\n",
    "5) Keeping everything fixed, a unit increase in pH causes on average, the wine quality to increase by 0.07 units\n",
    "6) Keeping everything fixed, a unit increase in sulphates causes on avergae, the wine quality to increase by 0.07 units\n",
    "7) Keeping everything fixed, a unit increase in free_sulphur_dioxide causes on avergae, the wine quality to increase by 0.33 units\n",
    "\n",
    "## Note: \n",
    "Since our goal to select this model was predictability over interpretibility, many features included in the final model are correlated with each other (like density and residual sugar). We therefore cannot make solid interpretations from this model. This model should only be used for interpretation."
   ]
  },
  {
   "cell_type": "markdown",
   "metadata": {},
   "source": [
    "# Section 2 - Classification"
   ]
  },
  {
   "cell_type": "code",
   "execution_count": 17,
   "metadata": {},
   "outputs": [],
   "source": [
    "# add as many boxes as you want"
   ]
  },
  {
   "cell_type": "code",
   "execution_count": 18,
   "metadata": {},
   "outputs": [],
   "source": [
    "White_Wine = pd.read_csv(\"/Users/praanshu/Desktop/SFSU/Data Mining/PPTs,data/winequality-white.csv\", sep = ';', header = 1,names = ['fixed_acidity','volatile_acidity',\n",
    "                                                       'citric_acid','residual_sugar','chlorides','free_sulfur_dioxide',\n",
    "                                                       'total_sulfur_dioxide','density','pH',\n",
    "                                                       'sulphates','alcohol','quality'])\n",
    "White_Wine['quality_category'] = np.where(White_Wine['quality'] >=7,\"High\",\"Low\")\n"
   ]
  },
  {
   "cell_type": "code",
   "execution_count": 19,
   "metadata": {},
   "outputs": [],
   "source": [
    "White_Wine_quality_Num = pd.get_dummies(White_Wine['quality_category'], prefix='quality')"
   ]
  },
  {
   "cell_type": "code",
   "execution_count": 20,
   "metadata": {
    "scrolled": true
   },
   "outputs": [
    {
     "data": {
      "text/html": [
       "<div>\n",
       "<style scoped>\n",
       "    .dataframe tbody tr th:only-of-type {\n",
       "        vertical-align: middle;\n",
       "    }\n",
       "\n",
       "    .dataframe tbody tr th {\n",
       "        vertical-align: top;\n",
       "    }\n",
       "\n",
       "    .dataframe thead th {\n",
       "        text-align: right;\n",
       "    }\n",
       "</style>\n",
       "<table border=\"1\" class=\"dataframe\">\n",
       "  <thead>\n",
       "    <tr style=\"text-align: right;\">\n",
       "      <th></th>\n",
       "      <th>fixed_acidity</th>\n",
       "      <th>volatile_acidity</th>\n",
       "      <th>citric_acid</th>\n",
       "      <th>residual_sugar</th>\n",
       "      <th>chlorides</th>\n",
       "      <th>free_sulfur_dioxide</th>\n",
       "      <th>total_sulfur_dioxide</th>\n",
       "      <th>density</th>\n",
       "      <th>pH</th>\n",
       "      <th>sulphates</th>\n",
       "      <th>alcohol</th>\n",
       "      <th>quality</th>\n",
       "      <th>quality_category</th>\n",
       "      <th>quality_Low</th>\n",
       "    </tr>\n",
       "  </thead>\n",
       "  <tbody>\n",
       "    <tr>\n",
       "      <th>0</th>\n",
       "      <td>6.3</td>\n",
       "      <td>0.30</td>\n",
       "      <td>0.34</td>\n",
       "      <td>1.60</td>\n",
       "      <td>0.049</td>\n",
       "      <td>14.0</td>\n",
       "      <td>132.0</td>\n",
       "      <td>0.9940</td>\n",
       "      <td>3.30</td>\n",
       "      <td>0.49</td>\n",
       "      <td>9.5</td>\n",
       "      <td>6</td>\n",
       "      <td>Low</td>\n",
       "      <td>1</td>\n",
       "    </tr>\n",
       "    <tr>\n",
       "      <th>1</th>\n",
       "      <td>8.1</td>\n",
       "      <td>0.28</td>\n",
       "      <td>0.40</td>\n",
       "      <td>6.90</td>\n",
       "      <td>0.050</td>\n",
       "      <td>30.0</td>\n",
       "      <td>97.0</td>\n",
       "      <td>0.9951</td>\n",
       "      <td>3.26</td>\n",
       "      <td>0.44</td>\n",
       "      <td>10.1</td>\n",
       "      <td>6</td>\n",
       "      <td>Low</td>\n",
       "      <td>1</td>\n",
       "    </tr>\n",
       "    <tr>\n",
       "      <th>2</th>\n",
       "      <td>7.2</td>\n",
       "      <td>0.23</td>\n",
       "      <td>0.32</td>\n",
       "      <td>8.50</td>\n",
       "      <td>0.058</td>\n",
       "      <td>47.0</td>\n",
       "      <td>186.0</td>\n",
       "      <td>0.9956</td>\n",
       "      <td>3.19</td>\n",
       "      <td>0.40</td>\n",
       "      <td>9.9</td>\n",
       "      <td>6</td>\n",
       "      <td>Low</td>\n",
       "      <td>1</td>\n",
       "    </tr>\n",
       "    <tr>\n",
       "      <th>3</th>\n",
       "      <td>7.2</td>\n",
       "      <td>0.23</td>\n",
       "      <td>0.32</td>\n",
       "      <td>8.50</td>\n",
       "      <td>0.058</td>\n",
       "      <td>47.0</td>\n",
       "      <td>186.0</td>\n",
       "      <td>0.9956</td>\n",
       "      <td>3.19</td>\n",
       "      <td>0.40</td>\n",
       "      <td>9.9</td>\n",
       "      <td>6</td>\n",
       "      <td>Low</td>\n",
       "      <td>1</td>\n",
       "    </tr>\n",
       "    <tr>\n",
       "      <th>4</th>\n",
       "      <td>8.1</td>\n",
       "      <td>0.28</td>\n",
       "      <td>0.40</td>\n",
       "      <td>6.90</td>\n",
       "      <td>0.050</td>\n",
       "      <td>30.0</td>\n",
       "      <td>97.0</td>\n",
       "      <td>0.9951</td>\n",
       "      <td>3.26</td>\n",
       "      <td>0.44</td>\n",
       "      <td>10.1</td>\n",
       "      <td>6</td>\n",
       "      <td>Low</td>\n",
       "      <td>1</td>\n",
       "    </tr>\n",
       "    <tr>\n",
       "      <th>5</th>\n",
       "      <td>6.2</td>\n",
       "      <td>0.32</td>\n",
       "      <td>0.16</td>\n",
       "      <td>7.00</td>\n",
       "      <td>0.045</td>\n",
       "      <td>30.0</td>\n",
       "      <td>136.0</td>\n",
       "      <td>0.9949</td>\n",
       "      <td>3.18</td>\n",
       "      <td>0.47</td>\n",
       "      <td>9.6</td>\n",
       "      <td>6</td>\n",
       "      <td>Low</td>\n",
       "      <td>1</td>\n",
       "    </tr>\n",
       "    <tr>\n",
       "      <th>6</th>\n",
       "      <td>7.0</td>\n",
       "      <td>0.27</td>\n",
       "      <td>0.36</td>\n",
       "      <td>20.70</td>\n",
       "      <td>0.045</td>\n",
       "      <td>45.0</td>\n",
       "      <td>170.0</td>\n",
       "      <td>1.0010</td>\n",
       "      <td>3.00</td>\n",
       "      <td>0.45</td>\n",
       "      <td>8.8</td>\n",
       "      <td>6</td>\n",
       "      <td>Low</td>\n",
       "      <td>1</td>\n",
       "    </tr>\n",
       "    <tr>\n",
       "      <th>7</th>\n",
       "      <td>6.3</td>\n",
       "      <td>0.30</td>\n",
       "      <td>0.34</td>\n",
       "      <td>1.60</td>\n",
       "      <td>0.049</td>\n",
       "      <td>14.0</td>\n",
       "      <td>132.0</td>\n",
       "      <td>0.9940</td>\n",
       "      <td>3.30</td>\n",
       "      <td>0.49</td>\n",
       "      <td>9.5</td>\n",
       "      <td>6</td>\n",
       "      <td>Low</td>\n",
       "      <td>1</td>\n",
       "    </tr>\n",
       "    <tr>\n",
       "      <th>8</th>\n",
       "      <td>8.1</td>\n",
       "      <td>0.22</td>\n",
       "      <td>0.43</td>\n",
       "      <td>1.50</td>\n",
       "      <td>0.044</td>\n",
       "      <td>28.0</td>\n",
       "      <td>129.0</td>\n",
       "      <td>0.9938</td>\n",
       "      <td>3.22</td>\n",
       "      <td>0.45</td>\n",
       "      <td>11.0</td>\n",
       "      <td>6</td>\n",
       "      <td>Low</td>\n",
       "      <td>1</td>\n",
       "    </tr>\n",
       "    <tr>\n",
       "      <th>9</th>\n",
       "      <td>8.1</td>\n",
       "      <td>0.27</td>\n",
       "      <td>0.41</td>\n",
       "      <td>1.45</td>\n",
       "      <td>0.033</td>\n",
       "      <td>11.0</td>\n",
       "      <td>63.0</td>\n",
       "      <td>0.9908</td>\n",
       "      <td>2.99</td>\n",
       "      <td>0.56</td>\n",
       "      <td>12.0</td>\n",
       "      <td>5</td>\n",
       "      <td>Low</td>\n",
       "      <td>1</td>\n",
       "    </tr>\n",
       "    <tr>\n",
       "      <th>10</th>\n",
       "      <td>8.6</td>\n",
       "      <td>0.23</td>\n",
       "      <td>0.40</td>\n",
       "      <td>4.20</td>\n",
       "      <td>0.035</td>\n",
       "      <td>17.0</td>\n",
       "      <td>109.0</td>\n",
       "      <td>0.9947</td>\n",
       "      <td>3.14</td>\n",
       "      <td>0.53</td>\n",
       "      <td>9.7</td>\n",
       "      <td>5</td>\n",
       "      <td>Low</td>\n",
       "      <td>1</td>\n",
       "    </tr>\n",
       "    <tr>\n",
       "      <th>11</th>\n",
       "      <td>7.9</td>\n",
       "      <td>0.18</td>\n",
       "      <td>0.37</td>\n",
       "      <td>1.20</td>\n",
       "      <td>0.040</td>\n",
       "      <td>16.0</td>\n",
       "      <td>75.0</td>\n",
       "      <td>0.9920</td>\n",
       "      <td>3.18</td>\n",
       "      <td>0.63</td>\n",
       "      <td>10.8</td>\n",
       "      <td>5</td>\n",
       "      <td>Low</td>\n",
       "      <td>1</td>\n",
       "    </tr>\n",
       "    <tr>\n",
       "      <th>12</th>\n",
       "      <td>6.6</td>\n",
       "      <td>0.16</td>\n",
       "      <td>0.40</td>\n",
       "      <td>1.50</td>\n",
       "      <td>0.044</td>\n",
       "      <td>48.0</td>\n",
       "      <td>143.0</td>\n",
       "      <td>0.9912</td>\n",
       "      <td>3.54</td>\n",
       "      <td>0.52</td>\n",
       "      <td>12.4</td>\n",
       "      <td>7</td>\n",
       "      <td>High</td>\n",
       "      <td>0</td>\n",
       "    </tr>\n",
       "    <tr>\n",
       "      <th>13</th>\n",
       "      <td>8.3</td>\n",
       "      <td>0.42</td>\n",
       "      <td>0.62</td>\n",
       "      <td>19.25</td>\n",
       "      <td>0.040</td>\n",
       "      <td>41.0</td>\n",
       "      <td>172.0</td>\n",
       "      <td>1.0002</td>\n",
       "      <td>2.98</td>\n",
       "      <td>0.67</td>\n",
       "      <td>9.7</td>\n",
       "      <td>5</td>\n",
       "      <td>Low</td>\n",
       "      <td>1</td>\n",
       "    </tr>\n",
       "    <tr>\n",
       "      <th>14</th>\n",
       "      <td>6.6</td>\n",
       "      <td>0.17</td>\n",
       "      <td>0.38</td>\n",
       "      <td>1.50</td>\n",
       "      <td>0.032</td>\n",
       "      <td>28.0</td>\n",
       "      <td>112.0</td>\n",
       "      <td>0.9914</td>\n",
       "      <td>3.25</td>\n",
       "      <td>0.55</td>\n",
       "      <td>11.4</td>\n",
       "      <td>7</td>\n",
       "      <td>High</td>\n",
       "      <td>0</td>\n",
       "    </tr>\n",
       "    <tr>\n",
       "      <th>15</th>\n",
       "      <td>6.3</td>\n",
       "      <td>0.48</td>\n",
       "      <td>0.04</td>\n",
       "      <td>1.10</td>\n",
       "      <td>0.046</td>\n",
       "      <td>30.0</td>\n",
       "      <td>99.0</td>\n",
       "      <td>0.9928</td>\n",
       "      <td>3.24</td>\n",
       "      <td>0.36</td>\n",
       "      <td>9.6</td>\n",
       "      <td>6</td>\n",
       "      <td>Low</td>\n",
       "      <td>1</td>\n",
       "    </tr>\n",
       "    <tr>\n",
       "      <th>16</th>\n",
       "      <td>6.2</td>\n",
       "      <td>0.66</td>\n",
       "      <td>0.48</td>\n",
       "      <td>1.20</td>\n",
       "      <td>0.029</td>\n",
       "      <td>29.0</td>\n",
       "      <td>75.0</td>\n",
       "      <td>0.9892</td>\n",
       "      <td>3.33</td>\n",
       "      <td>0.39</td>\n",
       "      <td>12.8</td>\n",
       "      <td>8</td>\n",
       "      <td>High</td>\n",
       "      <td>0</td>\n",
       "    </tr>\n",
       "    <tr>\n",
       "      <th>17</th>\n",
       "      <td>7.4</td>\n",
       "      <td>0.34</td>\n",
       "      <td>0.42</td>\n",
       "      <td>1.10</td>\n",
       "      <td>0.033</td>\n",
       "      <td>17.0</td>\n",
       "      <td>171.0</td>\n",
       "      <td>0.9917</td>\n",
       "      <td>3.12</td>\n",
       "      <td>0.53</td>\n",
       "      <td>11.3</td>\n",
       "      <td>6</td>\n",
       "      <td>Low</td>\n",
       "      <td>1</td>\n",
       "    </tr>\n",
       "    <tr>\n",
       "      <th>18</th>\n",
       "      <td>6.5</td>\n",
       "      <td>0.31</td>\n",
       "      <td>0.14</td>\n",
       "      <td>7.50</td>\n",
       "      <td>0.044</td>\n",
       "      <td>34.0</td>\n",
       "      <td>133.0</td>\n",
       "      <td>0.9955</td>\n",
       "      <td>3.22</td>\n",
       "      <td>0.50</td>\n",
       "      <td>9.5</td>\n",
       "      <td>5</td>\n",
       "      <td>Low</td>\n",
       "      <td>1</td>\n",
       "    </tr>\n",
       "    <tr>\n",
       "      <th>19</th>\n",
       "      <td>6.2</td>\n",
       "      <td>0.66</td>\n",
       "      <td>0.48</td>\n",
       "      <td>1.20</td>\n",
       "      <td>0.029</td>\n",
       "      <td>29.0</td>\n",
       "      <td>75.0</td>\n",
       "      <td>0.9892</td>\n",
       "      <td>3.33</td>\n",
       "      <td>0.39</td>\n",
       "      <td>12.8</td>\n",
       "      <td>8</td>\n",
       "      <td>High</td>\n",
       "      <td>0</td>\n",
       "    </tr>\n",
       "  </tbody>\n",
       "</table>\n",
       "</div>"
      ],
      "text/plain": [
       "    fixed_acidity  volatile_acidity  citric_acid  residual_sugar  chlorides  \\\n",
       "0             6.3              0.30         0.34            1.60      0.049   \n",
       "1             8.1              0.28         0.40            6.90      0.050   \n",
       "2             7.2              0.23         0.32            8.50      0.058   \n",
       "3             7.2              0.23         0.32            8.50      0.058   \n",
       "4             8.1              0.28         0.40            6.90      0.050   \n",
       "5             6.2              0.32         0.16            7.00      0.045   \n",
       "6             7.0              0.27         0.36           20.70      0.045   \n",
       "7             6.3              0.30         0.34            1.60      0.049   \n",
       "8             8.1              0.22         0.43            1.50      0.044   \n",
       "9             8.1              0.27         0.41            1.45      0.033   \n",
       "10            8.6              0.23         0.40            4.20      0.035   \n",
       "11            7.9              0.18         0.37            1.20      0.040   \n",
       "12            6.6              0.16         0.40            1.50      0.044   \n",
       "13            8.3              0.42         0.62           19.25      0.040   \n",
       "14            6.6              0.17         0.38            1.50      0.032   \n",
       "15            6.3              0.48         0.04            1.10      0.046   \n",
       "16            6.2              0.66         0.48            1.20      0.029   \n",
       "17            7.4              0.34         0.42            1.10      0.033   \n",
       "18            6.5              0.31         0.14            7.50      0.044   \n",
       "19            6.2              0.66         0.48            1.20      0.029   \n",
       "\n",
       "    free_sulfur_dioxide  total_sulfur_dioxide  density    pH  sulphates  \\\n",
       "0                  14.0                 132.0   0.9940  3.30       0.49   \n",
       "1                  30.0                  97.0   0.9951  3.26       0.44   \n",
       "2                  47.0                 186.0   0.9956  3.19       0.40   \n",
       "3                  47.0                 186.0   0.9956  3.19       0.40   \n",
       "4                  30.0                  97.0   0.9951  3.26       0.44   \n",
       "5                  30.0                 136.0   0.9949  3.18       0.47   \n",
       "6                  45.0                 170.0   1.0010  3.00       0.45   \n",
       "7                  14.0                 132.0   0.9940  3.30       0.49   \n",
       "8                  28.0                 129.0   0.9938  3.22       0.45   \n",
       "9                  11.0                  63.0   0.9908  2.99       0.56   \n",
       "10                 17.0                 109.0   0.9947  3.14       0.53   \n",
       "11                 16.0                  75.0   0.9920  3.18       0.63   \n",
       "12                 48.0                 143.0   0.9912  3.54       0.52   \n",
       "13                 41.0                 172.0   1.0002  2.98       0.67   \n",
       "14                 28.0                 112.0   0.9914  3.25       0.55   \n",
       "15                 30.0                  99.0   0.9928  3.24       0.36   \n",
       "16                 29.0                  75.0   0.9892  3.33       0.39   \n",
       "17                 17.0                 171.0   0.9917  3.12       0.53   \n",
       "18                 34.0                 133.0   0.9955  3.22       0.50   \n",
       "19                 29.0                  75.0   0.9892  3.33       0.39   \n",
       "\n",
       "    alcohol  quality quality_category  quality_Low  \n",
       "0       9.5        6              Low            1  \n",
       "1      10.1        6              Low            1  \n",
       "2       9.9        6              Low            1  \n",
       "3       9.9        6              Low            1  \n",
       "4      10.1        6              Low            1  \n",
       "5       9.6        6              Low            1  \n",
       "6       8.8        6              Low            1  \n",
       "7       9.5        6              Low            1  \n",
       "8      11.0        6              Low            1  \n",
       "9      12.0        5              Low            1  \n",
       "10      9.7        5              Low            1  \n",
       "11     10.8        5              Low            1  \n",
       "12     12.4        7             High            0  \n",
       "13      9.7        5              Low            1  \n",
       "14     11.4        7             High            0  \n",
       "15      9.6        6              Low            1  \n",
       "16     12.8        8             High            0  \n",
       "17     11.3        6              Low            1  \n",
       "18      9.5        5              Low            1  \n",
       "19     12.8        8             High            0  "
      ]
     },
     "execution_count": 20,
     "metadata": {},
     "output_type": "execute_result"
    }
   ],
   "source": [
    "del White_Wine_quality_Num['quality_High']\n",
    "White_Wine = pd.concat([White_Wine,White_Wine_quality_Num], axis=1)\n",
    "White_Wine.head(20)"
   ]
  },
  {
   "cell_type": "code",
   "execution_count": null,
   "metadata": {},
   "outputs": [],
   "source": []
  },
  {
   "cell_type": "code",
   "execution_count": 21,
   "metadata": {},
   "outputs": [
    {
     "name": "stdout",
     "output_type": "stream",
     "text": [
      "Optimization terminated successfully.\n",
      "         Current function value: 8.538759\n",
      "         Iterations 9\n"
     ]
    },
    {
     "name": "stderr",
     "output_type": "stream",
     "text": [
      "/Users/praanshu/anaconda3/lib/python3.7/site-packages/statsmodels/base/model.py:488: HessianInversionWarning: Inverting hessian failed, no bse or cov_params available\n",
      "  'available', HessianInversionWarning)\n",
      "/Users/praanshu/anaconda3/lib/python3.7/site-packages/statsmodels/base/model.py:488: HessianInversionWarning: Inverting hessian failed, no bse or cov_params available\n",
      "  'available', HessianInversionWarning)\n",
      "/Users/praanshu/anaconda3/lib/python3.7/site-packages/statsmodels/discrete/discrete_model.py:3313: RuntimeWarning: divide by zero encountered in double_scalars\n",
      "  return 1 - self.llf/self.llnull\n"
     ]
    },
    {
     "data": {
      "text/html": [
       "<table class=\"simpletable\">\n",
       "<caption>Logit Regression Results</caption>\n",
       "<tr>\n",
       "  <th>Dep. Variable:</th>    <td>quality_Low</td>   <th>  No. Observations:  </th>  <td>  4897</td> \n",
       "</tr>\n",
       "<tr>\n",
       "  <th>Model:</th>               <td>Logit</td>      <th>  Df Residuals:      </th>  <td>  4885</td> \n",
       "</tr>\n",
       "<tr>\n",
       "  <th>Method:</th>               <td>MLE</td>       <th>  Df Model:          </th>  <td>    11</td> \n",
       "</tr>\n",
       "<tr>\n",
       "  <th>Date:</th>          <td>Wed, 25 Nov 2020</td> <th>  Pseudo R-squ.:     </th>  <td>   inf</td> \n",
       "</tr>\n",
       "<tr>\n",
       "  <th>Time:</th>              <td>16:19:44</td>     <th>  Log-Likelihood:    </th> <td> -41814.</td>\n",
       "</tr>\n",
       "<tr>\n",
       "  <th>converged:</th>           <td>True</td>       <th>  LL-Null:           </th> <td>  0.0000</td>\n",
       "</tr>\n",
       "<tr>\n",
       "  <th> </th>                      <td> </td>        <th>  LLR p-value:       </th>  <td> 1.000</td> \n",
       "</tr>\n",
       "</table>\n",
       "<table class=\"simpletable\">\n",
       "<tr>\n",
       "            <td></td>              <th>coef</th>     <th>std err</th>      <th>z</th>      <th>P>|z|</th>  <th>[0.025</th>    <th>0.975]</th>  \n",
       "</tr>\n",
       "<tr>\n",
       "  <th>Intercept</th>            <td> -635.9155</td> <td>   94.114</td> <td>   -6.757</td> <td> 0.000</td> <td> -820.375</td> <td> -451.456</td>\n",
       "</tr>\n",
       "<tr>\n",
       "  <th>fixed_acidity</th>        <td>   -0.5518</td> <td>    0.091</td> <td>   -6.096</td> <td> 0.000</td> <td>   -0.729</td> <td>   -0.374</td>\n",
       "</tr>\n",
       "<tr>\n",
       "  <th>volatile_acidity</th>     <td>    3.7849</td> <td>    0.488</td> <td>    7.749</td> <td> 0.000</td> <td>    2.828</td> <td>    4.742</td>\n",
       "</tr>\n",
       "<tr>\n",
       "  <th>citric_acid</th>          <td>    0.7376</td> <td>    0.401</td> <td>    1.840</td> <td> 0.066</td> <td>   -0.048</td> <td>    1.523</td>\n",
       "</tr>\n",
       "<tr>\n",
       "  <th>residual_sugar</th>       <td>   -0.2952</td> <td>    0.036</td> <td>   -8.283</td> <td> 0.000</td> <td>   -0.365</td> <td>   -0.225</td>\n",
       "</tr>\n",
       "<tr>\n",
       "  <th>chlorides</th>            <td>   12.6452</td> <td>    3.817</td> <td>    3.313</td> <td> 0.001</td> <td>    5.165</td> <td>   20.126</td>\n",
       "</tr>\n",
       "<tr>\n",
       "  <th>free_sulfur_dioxide</th>  <td>   -0.0086</td> <td>    0.003</td> <td>   -2.762</td> <td> 0.006</td> <td>   -0.015</td> <td>   -0.003</td>\n",
       "</tr>\n",
       "<tr>\n",
       "  <th>total_sulfur_dioxide</th> <td>    0.0003</td> <td>    0.002</td> <td>    0.180</td> <td> 0.857</td> <td>   -0.003</td> <td>    0.003</td>\n",
       "</tr>\n",
       "<tr>\n",
       "  <th>density</th>              <td>  658.8274</td> <td>   95.393</td> <td>    6.906</td> <td> 0.000</td> <td>  471.860</td> <td>  845.795</td>\n",
       "</tr>\n",
       "<tr>\n",
       "  <th>pH</th>                   <td>   -3.3415</td> <td>    0.427</td> <td>   -7.828</td> <td> 0.000</td> <td>   -4.178</td> <td>   -2.505</td>\n",
       "</tr>\n",
       "<tr>\n",
       "  <th>sulphates</th>            <td>   -2.1674</td> <td>    0.347</td> <td>   -6.237</td> <td> 0.000</td> <td>   -2.848</td> <td>   -1.486</td>\n",
       "</tr>\n",
       "<tr>\n",
       "  <th>alcohol</th>              <td>   -0.1425</td> <td>    0.114</td> <td>   -1.252</td> <td> 0.211</td> <td>   -0.366</td> <td>    0.081</td>\n",
       "</tr>\n",
       "</table>"
      ],
      "text/plain": [
       "<class 'statsmodels.iolib.summary.Summary'>\n",
       "\"\"\"\n",
       "                           Logit Regression Results                           \n",
       "==============================================================================\n",
       "Dep. Variable:            quality_Low   No. Observations:                 4897\n",
       "Model:                          Logit   Df Residuals:                     4885\n",
       "Method:                           MLE   Df Model:                           11\n",
       "Date:                Wed, 25 Nov 2020   Pseudo R-squ.:                     inf\n",
       "Time:                        16:19:44   Log-Likelihood:                -41814.\n",
       "converged:                       True   LL-Null:                        0.0000\n",
       "                                        LLR p-value:                     1.000\n",
       "========================================================================================\n",
       "                           coef    std err          z      P>|z|      [0.025      0.975]\n",
       "----------------------------------------------------------------------------------------\n",
       "Intercept             -635.9155     94.114     -6.757      0.000    -820.375    -451.456\n",
       "fixed_acidity           -0.5518      0.091     -6.096      0.000      -0.729      -0.374\n",
       "volatile_acidity         3.7849      0.488      7.749      0.000       2.828       4.742\n",
       "citric_acid              0.7376      0.401      1.840      0.066      -0.048       1.523\n",
       "residual_sugar          -0.2952      0.036     -8.283      0.000      -0.365      -0.225\n",
       "chlorides               12.6452      3.817      3.313      0.001       5.165      20.126\n",
       "free_sulfur_dioxide     -0.0086      0.003     -2.762      0.006      -0.015      -0.003\n",
       "total_sulfur_dioxide     0.0003      0.002      0.180      0.857      -0.003       0.003\n",
       "density                658.8274     95.393      6.906      0.000     471.860     845.795\n",
       "pH                      -3.3415      0.427     -7.828      0.000      -4.178      -2.505\n",
       "sulphates               -2.1674      0.347     -6.237      0.000      -2.848      -1.486\n",
       "alcohol                 -0.1425      0.114     -1.252      0.211      -0.366       0.081\n",
       "========================================================================================\n",
       "\"\"\""
      ]
     },
     "execution_count": 21,
     "metadata": {},
     "output_type": "execute_result"
    }
   ],
   "source": [
    "#Using statsmodel\n",
    "\n",
    "White_Wine['Intercept'] = 1\n",
    "X1 = White_Wine[['Intercept','fixed_acidity','volatile_acidity','citric_acid','residual_sugar','chlorides','free_sulfur_dioxide','total_sulfur_dioxide',\n",
    "                  'density','pH','sulphates','alcohol']]\n",
    "y1 = White_Wine['quality_Low']\n",
    "\n",
    "logit = smf.Logit(y1, X1)\n",
    "result = logit.fit()\n",
    "result.summary()"
   ]
  },
  {
   "cell_type": "markdown",
   "metadata": {},
   "source": [
    "### Interpretation\n",
    "From above, citric_acid, total_sulphur_dioxide and alcohol appear insignificant. \n",
    "\n",
    "We see that with a unit increase in volatile_acidity, the odds of quality being low increase by 3.8% \n",
    "Similarly, with a unit increase in chlorides, the odds of quality being low increase by 1264%, suggesting that high quality wines should have low amount of chlorides. \n",
    "\n",
    "Density again suggests that with a unit increase in density, the odds of quality being low increase by 658.8 *100%. However, we noticed previously that both density and chlorides were highly correlated, so we should not have included both these variables together as it harms the interpretibility of the model."
   ]
  },
  {
   "cell_type": "code",
   "execution_count": 22,
   "metadata": {},
   "outputs": [],
   "source": [
    "X =  White_Wine[['fixed_acidity','volatile_acidity','citric_acid','residual_sugar','chlorides','free_sulfur_dioxide','total_sulfur_dioxide',\n",
    "                  'density','pH','sulphates','alcohol']]\n",
    "y =  White_Wine['quality_Low']"
   ]
  },
  {
   "cell_type": "code",
   "execution_count": 23,
   "metadata": {},
   "outputs": [
    {
     "name": "stdout",
     "output_type": "stream",
     "text": [
      "Accuracy with 10 fold CV for liblinear is 0.795793\n"
     ]
    }
   ],
   "source": [
    "lm = LogisticRegression(solver = 'liblinear', max_iter = 10000)\n",
    "\n",
    "print(\"Accuracy with 10 fold CV for liblinear is %f\" %cross_val_score(lm, X , y, cv=10, scoring = 'accuracy').mean())\n"
   ]
  },
  {
   "cell_type": "code",
   "execution_count": 29,
   "metadata": {
    "scrolled": true
   },
   "outputs": [
    {
     "name": "stdout",
     "output_type": "stream",
     "text": [
      "[[ 297  763]\n",
      " [ 208 3629]]\n"
     ]
    }
   ],
   "source": [
    "lm.fit(X, y)\n",
    "\n",
    "\n",
    "y_hat_liblinear = lm.predict(X)\n",
    "print(confusion_matrix(y, y_hat_liblinear))"
   ]
  },
  {
   "cell_type": "code",
   "execution_count": 30,
   "metadata": {},
   "outputs": [],
   "source": [
    "## Looks like our true positives are high. \n",
    "## We will now standardize our data for applying KNN algorithms."
   ]
  },
  {
   "cell_type": "code",
   "execution_count": 31,
   "metadata": {},
   "outputs": [],
   "source": [
    "def Standardize(X):\n",
    "    X_Max = X.max()\n",
    "    X_Min = X.min()\n",
    "    X_Standardized = (X-X_Min)/(X_Max - X_Min)\n",
    "    return X_Standardized\n",
    "\n",
    "NameOfVariables = ['fixed_acidity','volatile_acidity','citric_acid','residual_sugar','chlorides','free_sulfur_dioxide','total_sulfur_dioxide',\n",
    "                  'density','pH','sulphates','alcohol']\n",
    "for i in NameOfVariables:\n",
    "    White_Wine[i] = Standardize(White_Wine[i])\n",
    "    \n",
    "X = White_Wine[['fixed_acidity','volatile_acidity','citric_acid','residual_sugar','chlorides','free_sulfur_dioxide','total_sulfur_dioxide',\n",
    "                  'density','pH','sulphates','alcohol']] "
   ]
  },
  {
   "cell_type": "code",
   "execution_count": null,
   "metadata": {},
   "outputs": [],
   "source": []
  },
  {
   "cell_type": "markdown",
   "metadata": {},
   "source": [
    "#### Using 10-fold cross validation to find the best tuning parameter - C using 'liblinear' and l1 penalty"
   ]
  },
  {
   "cell_type": "code",
   "execution_count": 32,
   "metadata": {},
   "outputs": [
    {
     "data": {
      "image/png": "[encoded data removed]",
      "text/plain": [
       "<Figure size 432x288 with 1 Axes>"
      ]
     },
     "metadata": {
      "needs_background": "light"
     },
     "output_type": "display_data"
    },
    {
     "name": "stdout",
     "output_type": "stream",
     "text": [
      "Our optimal C is 10.000000\n",
      "Our accuracy at optimal C is 0.798651\n"
     ]
    }
   ],
   "source": [
    "\n",
    "c_list = np.logspace(-10,10,21) \n",
    "c_index = np.linspace(-10,10,21)\n",
    "\n",
    "cv_scores = []\n",
    "for c_score in c_list:\n",
    "    lm = LogisticRegression(C = c_score,  solver = 'liblinear', max_iter  = 10000, penalty = 'l1')\n",
    "    cv_scores.append(cross_val_score(lm, X, y,cv = 10, scoring = 'accuracy').mean())\n",
    "\n",
    "plt.plot(c_index, cv_scores)\n",
    "plt.show()\n",
    "\n",
    "print(\"Our optimal C is %f\" %c_list[np.argmax(cv_scores)])   \n",
    "print(\"Our accuracy at optimal C is %f\" %np.max(cv_scores))"
   ]
  },
  {
   "cell_type": "markdown",
   "metadata": {},
   "source": [
    "#### Localizing search"
   ]
  },
  {
   "cell_type": "code",
   "execution_count": 33,
   "metadata": {},
   "outputs": [
    {
     "data": {
      "image/png": "[encoded data removed]",
      "text/plain": [
       "<Figure size 432x288 with 1 Axes>"
      ]
     },
     "metadata": {
      "needs_background": "light"
     },
     "output_type": "display_data"
    },
    {
     "name": "stdout",
     "output_type": "stream",
     "text": [
      "Our optimal C is 7.777778\n",
      "Our accuracy at optimal C is 0.799672\n"
     ]
    }
   ],
   "source": [
    "c_list = np.linspace(1,12,100) \n",
    "cv_scores = []\n",
    "for c_score in c_list:\n",
    "    lm = LogisticRegression(C = c_score,  solver = 'liblinear', max_iter  = 10000, penalty = 'l1')\n",
    "    cv_scores.append(cross_val_score(lm, X, y,cv = 10, scoring = 'accuracy').mean())\n",
    "\n",
    "plt.plot(c_list, cv_scores)\n",
    "plt.show()\n",
    "\n",
    "print(\"Our optimal C is %f\" %c_list[np.argmax(cv_scores)])   \n",
    "print(\"Our accuracy at optimal C is %f\" %np.max(cv_scores))"
   ]
  },
  {
   "cell_type": "code",
   "execution_count": 34,
   "metadata": {},
   "outputs": [
    {
     "name": "stdout",
     "output_type": "stream",
     "text": [
      "[[ -4.94579938   3.83174188   1.17353142 -17.05958657   4.31502882\n",
      "   -2.49796581   0.21888746  29.54472885  -3.31771804  -1.74289345\n",
      "   -1.47431319]]\n"
     ]
    }
   ],
   "source": [
    "lm = LogisticRegression(C = 7.77,  solver = 'liblinear', max_iter  = 50000, penalty = 'l1')\n",
    "lm.fit(X,y)\n",
    "print(lm.coef_)\n"
   ]
  },
  {
   "cell_type": "code",
   "execution_count": 35,
   "metadata": {},
   "outputs": [
    {
     "name": "stdout",
     "output_type": "stream",
     "text": [
      "[(-4.945799377885714, 'fixed_acidity'), (3.831741876855318, 'volatile_acidity'), (1.1735314205588507, 'citric_acid'), (-17.059586571461303, 'residual_sugar'), (4.315028818079611, 'chlorides'), (-2.497965806937701, 'free_sulfur_dioxide'), (0.21888746149275504, 'total_sulfur_dioxide'), (29.54472884663954, 'density'), (-3.317718038635546, 'pH'), (-1.74289344962762, 'sulphates'), (-1.4743131894584334, 'alcohol')]\n"
     ]
    }
   ],
   "source": [
    "Var_coef = zip(lm.coef_[0,:],X.columns.values)\n",
    "print(list(Var_coef))"
   ]
  },
  {
   "cell_type": "markdown",
   "metadata": {},
   "source": [
    "#### Findings\n",
    "\n",
    "From our regression effort, I tried to find the best model that describes the response (quality of wines), by using Lasso regression. This helped in shrinkage of our model coefficients to an extent. I then fit regression on different models to find the one with the least CV MSE since our goal was prediction. \n",
    "\n",
    "From the classification exercise, I see that no coefficient is being dropped in the final model for classification. Earlier, statsmodel suggested that we should have dropped Total_sulfur_dioxide, citric_acid and alcohol as they had high p value.\n"
   ]
  },
  {
   "cell_type": "code",
   "execution_count": null,
   "metadata": {},
   "outputs": [],
   "source": []
  }
 ],
 "metadata": {
  "kernelspec": {
   "display_name": "Python 3",
   "language": "python",
   "name": "python3"
  },
  "language_info": {
   "codemirror_mode": {
    "name": "ipython",
    "version": 3
   },
   "file_extension": ".py",
   "mimetype": "text/x-python",
   "name": "python",
   "nbconvert_exporter": "python",
   "pygments_lexer": "ipython3",
   "version": "3.7.3"
  }
 },
 "nbformat": 4,
 "nbformat_minor": 1
}
